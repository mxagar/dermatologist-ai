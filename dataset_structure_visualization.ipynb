{
 "cells": [
  {
   "cell_type": "markdown",
   "id": "c04a09e0",
   "metadata": {},
   "source": [
    "# Skin Lesions: Dataset Structure with Autoencoders"
   ]
  },
  {
   "cell_type": "markdown",
   "id": "7bb12524",
   "metadata": {},
   "source": [
    "This notebook contains the definition and evaluation of a CNN-based autoencoder which aims to find a compressed representation of skin images; these images are labelled with their associated class:\n",
    "\n",
    "- [Melanoma](https://es.wikipedia.org/wiki/Melanoma): **malign** cancer, one of the deadliest.\n",
    "- [Nevus](https://en.wikipedia.org/wiki/Nevus): **benign** skin lesion (mole or birthmark).\n",
    "- [Seborrheic keratosis](https://en.wikipedia.org/wiki/Seborrheic_keratosis): **benign** skin tumor.\n",
    "\n",
    "![Skin Disease Classes](./images/skin_disease_classes.png)\n",
    "\n",
    "The project uses the images from the [2017 ISIC Challenge on Skin Lesion Analysis Towards Melanoma Detection](https://challenge.isic-archive.com/landing/2017/). Although the challenge is already closed, information on the competition can be obtained from the official [website](https://challenge.isic-archive.com/landing/2017/).\n",
    "\n",
    "I downloaded the dataset from the following links provided by Udacity to the non-committed folder `data/`, which is subdivided in the train, validation and test subfolders as well as class-name subfolders:\n",
    "\n",
    "- [training data](https://s3-us-west-1.amazonaws.com/udacity-dlnfd/datasets/skin-cancer/train.zip) (5.3 GB)\n",
    "- [validation data](https://s3-us-west-1.amazonaws.com/udacity-dlnfd/datasets/skin-cancer/valid.zip) (824.5 MB)\n",
    "- [test data](https://s3-us-west-1.amazonaws.com/udacity-dlnfd/datasets/skin-cancer/test.zip) (5.1 GB)\n",
    "\n",
    "The images originate from the [ISIC Archive](https://www.isic-archive.com/).\n",
    "\n",
    "Note that **the present notebook deals with the task of estimating the dataset structure**; if you are interested in the classification of the images, please open the notebook [skin_lesion_classification.ipynb](./skin_lesion_classification.ipynb); there, a CNN arhitecture based on the [ResNet50](https://en.wikipedia.org/wiki/Residual_neural_network) is built using transfer learning.\n",
    "\n",
    "**Table of Contents**:"
   ]
  },
  {
   "cell_type": "markdown",
   "id": "1d7f1ff9",
   "metadata": {},
   "source": [
    "## 1. Load Dataset"
   ]
  },
  {
   "cell_type": "code",
   "execution_count": 1,
   "id": "f791b6a5",
   "metadata": {},
   "outputs": [],
   "source": [
    "from glob import glob\n",
    "\n",
    "ROOT_PATH = './data/'\n",
    "\n",
    "# Get file paths for manual use\n",
    "train_melanoma = list(glob(ROOT_PATH+\"train/melanoma/*\"))\n",
    "train_nevus = list(glob(ROOT_PATH+\"train/nevus/*\"))\n",
    "train_seborrheic = list(glob(ROOT_PATH+\"train/seborrheic_keratosis/*\"))\n",
    "train_all = train_melanoma + train_nevus + train_seborrheic\n",
    "\n",
    "test_melanoma = list(glob(ROOT_PATH+\"test/melanoma/*\"))\n",
    "test_nevus = list(glob(ROOT_PATH+\"test/nevus/*\"))\n",
    "test_seborrheic = list(glob(ROOT_PATH+\"test/seborrheic_keratosis/*\"))\n",
    "test_all = test_melanoma + test_nevus + test_seborrheic\n",
    "\n",
    "valid_melanoma = list(glob(ROOT_PATH+\"valid/melanoma/*\"))\n",
    "valid_nevus = list(glob(ROOT_PATH+\"valid/nevus/*\"))\n",
    "valid_seborrheic = list(glob(ROOT_PATH+\"valid/seborrheic_keratosis/*\"))\n",
    "valid_all = valid_melanoma + valid_nevus + valid_seborrheic"
   ]
  },
  {
   "cell_type": "markdown",
   "id": "fbaacfc3",
   "metadata": {},
   "source": [
    "### 1.1 Data Loaders"
   ]
  },
  {
   "cell_type": "code",
   "execution_count": 2,
   "id": "d643b213",
   "metadata": {},
   "outputs": [],
   "source": [
    "import os\n",
    "from PIL import Image, ImageFile\n",
    "ImageFile.LOAD_TRUNCATED_IMAGES = True\n",
    "\n",
    "import numpy as np\n",
    "import cv2                \n",
    "import matplotlib.pyplot as plt                        \n",
    "%matplotlib inline"
   ]
  },
  {
   "cell_type": "code",
   "execution_count": 3,
   "id": "2c467505",
   "metadata": {},
   "outputs": [],
   "source": [
    "import torch\n",
    "import torchvision.transforms as transforms\n",
    "from torchvision import datasets\n",
    "\n",
    "# When transfer-learning is used we need to adapt our dataset\n",
    "# to how the pre-trained networks were trained.\n",
    "# In the case of VGG16/DenseNet/ResNet/Inception,\n",
    "# they were trained with ImageNet, that means:\n",
    "# resizing to 224x224 & scaling each channel independently:\n",
    "# mean = [0.485, 0.456, 0.406], std = [0.229, 0.224, 0.225]\n",
    "# However, note that if we define our own network and train it, \n",
    "# we can use our own size and normalization,\n",
    "# e.g.: 200x200, mean = [0.5, 0.5, 0.5], std = [0.5, 0.5, 0.5]\n",
    "\n",
    "trainpath = ROOT_PATH+'train'\n",
    "testpath = ROOT_PATH+'test'\n",
    "validpath = ROOT_PATH+'valid'\n",
    "batch_size = 16 # 20\n",
    "image_size = 224\n",
    "\n",
    "# Training data with augmentation (recommended)\n",
    "train_transforms = transforms.Compose([\n",
    "                                       transforms.RandomRotation(10),\n",
    "                                       transforms.Resize(230),\n",
    "                                       #transforms.CenterCrop(224),\n",
    "                                       #transforms.RandomResizedCrop(224),\n",
    "                                       transforms.RandomHorizontalFlip(),\n",
    "                                       transforms.CenterCrop(image_size),\n",
    "                                       transforms.ToTensor(), # map values to [0,1]\n",
    "                                       transforms.Normalize([0.5, 0.5, 0.5], \n",
    "                                                            [0.5, 0.5, 0.5])])\n",
    "# Test data without augmentation\n",
    "test_transforms = transforms.Compose([ \n",
    "                                       transforms.Resize(230),\n",
    "                                       transforms.CenterCrop(image_size),\n",
    "                                       transforms.ToTensor(), # map values to [0,1]\n",
    "                                       transforms.Normalize([0.5, 0.5, 0.5], \n",
    "                                                            [0.5, 0.5, 0.5])])\n",
    "\n",
    "# Validation data without augmentation\n",
    "valid_transforms = transforms.Compose([\n",
    "                                       transforms.Resize(230),\n",
    "                                       transforms.CenterCrop(image_size),\n",
    "                                       transforms.ToTensor(), # map values to [0,1]\n",
    "                                       transforms.Normalize([0.5, 0.5, 0.5], \n",
    "                                                            [0.5, 0.5, 0.5])])\n",
    "\n",
    "# Pass transforms in here, then run the next cell to see how the transforms look\n",
    "train_data = datasets.ImageFolder(trainpath, transform=train_transforms)\n",
    "test_data = datasets.ImageFolder(testpath, transform=test_transforms)\n",
    "valid_data = datasets.ImageFolder(validpath, transform=valid_transforms)\n",
    "\n",
    "# IMPORTANT: Set shuffle=False in the TEST data loader creation\n",
    "# to preserve filename-sample link\n",
    "trainloader = torch.utils.data.DataLoader(train_data, batch_size=batch_size, shuffle=True)\n",
    "testloader = torch.utils.data.DataLoader(test_data, batch_size=batch_size, shuffle=False) # shuffle=False!\n",
    "validloader = torch.utils.data.DataLoader(valid_data, batch_size=batch_size, shuffle=True)\n",
    "\n",
    "loaders = {}\n",
    "loaders['train'] = trainloader\n",
    "loaders['test'] = testloader\n",
    "loaders['valid'] = validloader"
   ]
  },
  {
   "cell_type": "code",
   "execution_count": 4,
   "id": "9f8e13a2",
   "metadata": {},
   "outputs": [
    {
     "name": "stdout",
     "output_type": "stream",
     "text": [
      "['melanoma', 'nevus', 'seborrheic keratosis']\n"
     ]
    }
   ],
   "source": [
    "# We can automatically access the class names\n",
    "num_classes = len(train_data.classes)\n",
    "class_names = [item.replace(\"_\", \" \") for item in train_data.classes]\n",
    "print(class_names)"
   ]
  },
  {
   "cell_type": "markdown",
   "id": "ce658e75",
   "metadata": {},
   "source": [
    "### 1.2 Tensor Visualization Function"
   ]
  },
  {
   "cell_type": "markdown",
   "id": "83e68b81",
   "metadata": {},
   "source": [
    "Note that Pytorch images are not loaded as numpy arrays, but as PIL images. Thus I define a simple function that given a PIL image visualizes it."
   ]
  },
  {
   "cell_type": "code",
   "execution_count": 5,
   "id": "91d114bb",
   "metadata": {},
   "outputs": [],
   "source": [
    "def visualize(image):\n",
    "    '''Visualizes one tensor-image'''\n",
    "    # Convert to numpy and (C,W,H) -> (W,H,C)\n",
    "    img = image.cpu().numpy().squeeze().transpose((1, 2, 0))\n",
    "    # Undo normalization\n",
    "    mean = np.array([0.5, 0.5, 0.5])\n",
    "    std = np.array([0.5, 0.5, 0.5])\n",
    "    image = std * img + mean\n",
    "    image = np.clip(image, 0, 1)\n",
    "    plt.imshow(image)"
   ]
  },
  {
   "cell_type": "code",
   "execution_count": 6,
   "id": "244d581a",
   "metadata": {},
   "outputs": [
    {
     "name": "stdout",
     "output_type": "stream",
     "text": [
      "Target labels: [0 0 0 0 0 0 0 0 0 0 0 0 0 0 0 0] -> ['melanoma', 'melanoma', 'melanoma', 'melanoma', 'melanoma', 'melanoma', 'melanoma', 'melanoma', 'melanoma', 'melanoma', 'melanoma', 'melanoma', 'melanoma', 'melanoma', 'melanoma', 'melanoma']\n"
     ]
    },
    {
     "data": {
      "image/png": "[encoded data removed]",
      "text/plain": [
       "<Figure size 432x288 with 1 Axes>"
      ]
     },
     "metadata": {
      "needs_background": "light"
     },
     "output_type": "display_data"
    }
   ],
   "source": [
    "# Take next batch\n",
    "data_iter = iter(testloader)\n",
    "images, labels = next(data_iter)\n",
    "\n",
    "# Print labels\n",
    "print(f'Target labels: {labels.data.numpy()} -> {[class_names[i] for i in labels.data.numpy()]}')\n",
    "\n",
    "# Visualize one image from the batch\n",
    "image = images[0]\n",
    "visualize(image)"
   ]
  },
  {
   "cell_type": "markdown",
   "id": "3fe47631",
   "metadata": {},
   "source": [
    "## 2. Model Definition and Training"
   ]
  },
  {
   "cell_type": "markdown",
   "id": "ef1e7162",
   "metadata": {},
   "source": [
    "### 2.1 Autoencoder"
   ]
  },
  {
   "cell_type": "code",
   "execution_count": 7,
   "id": "fcdcf686",
   "metadata": {},
   "outputs": [
    {
     "name": "stdout",
     "output_type": "stream",
     "text": [
      "ConvAutoencoder(\n",
      "  (conv1): Conv2d(3, 64, kernel_size=(3, 3), stride=(1, 1), padding=(1, 1))\n",
      "  (conv2): Conv2d(64, 128, kernel_size=(3, 3), stride=(1, 1), padding=(1, 1))\n",
      "  (conv3): Conv2d(128, 256, kernel_size=(3, 3), stride=(1, 1), padding=(1, 1))\n",
      "  (conv4): Conv2d(256, 64, kernel_size=(3, 3), stride=(1, 1), padding=(1, 1))\n",
      "  (conv5): Conv2d(64, 8, kernel_size=(3, 3), stride=(1, 1), padding=(1, 1))\n",
      "  (pool): MaxPool2d(kernel_size=2, stride=2, padding=0, dilation=1, ceil_mode=False)\n",
      "  (t_conv1): ConvTranspose2d(8, 64, kernel_size=(2, 2), stride=(2, 2))\n",
      "  (t_conv2): ConvTranspose2d(64, 256, kernel_size=(2, 2), stride=(2, 2))\n",
      "  (t_conv3): ConvTranspose2d(256, 128, kernel_size=(2, 2), stride=(2, 2))\n",
      "  (t_conv4): ConvTranspose2d(128, 64, kernel_size=(2, 2), stride=(2, 2))\n",
      "  (t_conv5): ConvTranspose2d(64, 3, kernel_size=(2, 2), stride=(2, 2))\n",
      ")\n"
     ]
    }
   ],
   "source": [
    "import torch.nn as nn\n",
    "import torch.nn.functional as F\n",
    "\n",
    "class ConvAutoencoder(nn.Module):\n",
    "    def __init__(self):\n",
    "        super(ConvAutoencoder, self).__init__()\n",
    "        \n",
    "        # -- Encoder layers\n",
    "        self.conv1 = nn.Conv2d(3, 64, 3, padding=1)\n",
    "        self.conv2 = nn.Conv2d(64, 128, 3, padding=1)\n",
    "        self.conv3 = nn.Conv2d(128, 256, 3, padding=1)\n",
    "        self.conv4 = nn.Conv2d(256, 64, 3, padding=1)\n",
    "        self.conv5 = nn.Conv2d(64, 8, 3, padding=1)\n",
    "\n",
    "        # W_out = (W_in + 2P - F)/S + 1\n",
    "        # (224 + 2*1 - 3)/1 + 1 = 224\n",
    "        # (112 + 2*1 - 3)/1 + 1 = 112\n",
    "        # (56 + 2*1 - 3)/1 + 1 = 56\n",
    "        # (28 + 2*1 - 3)/1 + 1 = 28\n",
    "        # (14 + 2*1 - 3)/1 + 1 = 14\n",
    "        \n",
    "        # MaxPool: / 2\n",
    "        self.pool = nn.MaxPool2d(2, 2)\n",
    "        \n",
    "        # -- Decoder layers\n",
    "        # A kernel of 2 and a stride of 2 will increase the spatial dims by 2\n",
    "        self.t_conv1 = nn.ConvTranspose2d(8, 64, 2, stride=2)\n",
    "        self.t_conv2 = nn.ConvTranspose2d(64, 256, 2, stride=2)\n",
    "        self.t_conv3 = nn.ConvTranspose2d(256, 128, 2, stride=2)\n",
    "        self.t_conv4 = nn.ConvTranspose2d(128, 64, 2, stride=2)\n",
    "        self.t_conv5 = nn.ConvTranspose2d(64, 3, 2, stride=2)        \n",
    "\n",
    "    def encode(self, x):    \n",
    "        # Conv 1\n",
    "        x = F.relu(self.conv1(x)) # (B, 3, 224, 224) -> (B, 64, 224, 224)\n",
    "        x = self.pool(x) # (B, 64, 224, 224) -> (B, 64, 112, 112)\n",
    "        # Conv 2\n",
    "        x = F.relu(self.conv2(x)) # (B, 64, 112, 112) -> (B, 128, 112, 112)\n",
    "        x = self.pool(x) # (B, 128, 112, 112) -> (B, 128, 56, 56)\n",
    "        # Conv 3\n",
    "        x = F.relu(self.conv3(x)) # (B, 128, 56, 56) -> (B, 256, 56, 56)\n",
    "        x = self.pool(x) # (B, 256, 56, 56) -> (B, 256, 28, 28)\n",
    "        # Conv 4\n",
    "        x = F.relu(self.conv4(x)) # (B, 256, 28, 28) -> (B, 64, 28, 28)\n",
    "        x = self.pool(x) # (B, 64, 28, 28) -> (B, 64, 14, 14)\n",
    "        # Conv 5\n",
    "        x = F.relu(self.conv5(x)) # (B, 64, 14, 28) -> (B, 8, 14, 14)\n",
    "        x = self.pool(x) # (B, 8, 14, 14) -> (B, 8, 7, 7):  8 x 7 x 7 = 392\n",
    "    \n",
    "        # Compressed representation: (B, 8, 7, 7): 8 x 7 x 7 = 392\n",
    "        return x\n",
    "            \n",
    "    def decode(self, x):\n",
    "        # T. Conv 1\n",
    "        x = F.relu(self.t_conv1(x)) # (B, 8, 7, 7) -> (B, 64, 14, 14)\n",
    "        # T. Conv 2\n",
    "        x = F.relu(self.t_conv2(x)) # (B, 64, 14, 14) -> (B, 256, 28, 28)\n",
    "        # T. Conv 3\n",
    "        x = F.relu(self.t_conv3(x)) # (B, 256, 28, 28) -> (B, 128, 56, 56)\n",
    "        # T. Conv 4\n",
    "        x = F.relu(self.t_conv4(x)) # (B, 128, 56, 56) -> (B, 64, 112, 112)\n",
    "        \n",
    "        # T. Conv 5: Scale from 0 to 1\n",
    "        x = torch.sigmoid(self.t_conv5(x)) # (B, 64, 112, 112) -> (B, 3, 224, 224)\n",
    "        \n",
    "        # Same size as input tensor: (B, 3, 224, 224)\n",
    "        return x\n",
    "\n",
    "    def forward(self, x):\n",
    "        \n",
    "        x = self.encode(x) # Compressed representation (B, 8, 7, 7): 8 x 7 x 7 = 392\n",
    "        x = self.decode(x) # Same size as input tensor: (B, 3, 224, 224)\n",
    "                \n",
    "        return x\n",
    "\n",
    "    \n",
    "# initialize the NN\n",
    "model = ConvAutoencoder()\n",
    "print(model)"
   ]
  },
  {
   "cell_type": "code",
   "execution_count": 8,
   "id": "74593a9c",
   "metadata": {},
   "outputs": [],
   "source": [
    "# Check if CUDA is available\n",
    "use_cuda = torch.cuda.is_available()"
   ]
  },
  {
   "cell_type": "code",
   "execution_count": 9,
   "id": "3f6d09c7",
   "metadata": {},
   "outputs": [],
   "source": [
    "# Function that computes the number of trained parameters\n",
    "# The larger the number, the longer training time\n",
    "def get_num_parameters(net):\n",
    "    model_parameters = filter(lambda p: p.requires_grad, net.parameters())\n",
    "    params = sum([np.prod(p.size()) for p in model_parameters])\n",
    "    return params"
   ]
  },
  {
   "cell_type": "code",
   "execution_count": 10,
   "id": "19a929ac",
   "metadata": {},
   "outputs": [
    {
     "name": "stdout",
     "output_type": "stream",
     "text": [
      "Number of model parameters to be trained: 755659\n"
     ]
    }
   ],
   "source": [
    "num_parameters = get_num_parameters(model)\n",
    "print(f'Number of model parameters to be trained: {num_parameters}')"
   ]
  },
  {
   "cell_type": "markdown",
   "id": "974d05f6",
   "metadata": {},
   "source": [
    "### 2.3 Save and Load Functions"
   ]
  },
  {
   "cell_type": "code",
   "execution_count": 11,
   "id": "68189cfd",
   "metadata": {},
   "outputs": [],
   "source": [
    "# Custom save & load functions\n",
    "def save_model(filepath, model):\n",
    "    torch.save(model.state_dict(), filepath)\n",
    "\n",
    "def load_checkpoint(filepath, model):\n",
    "    dev = 'cpu'\n",
    "    #checkpoint = torch.load(filepath, map_location=torch.device(dev))\n",
    "    checkpoint = torch.load(filepath, map_location=dev)\n",
    "    model.load_state_dict(checkpoint)\n",
    "    return model"
   ]
  },
  {
   "cell_type": "code",
   "execution_count": 12,
   "id": "fc89d48f",
   "metadata": {},
   "outputs": [],
   "source": [
    "filepath = './models/autoencoder_0.pt'\n",
    "save_model(filepath, model)\n",
    "model = load_checkpoint(filepath, model)"
   ]
  },
  {
   "cell_type": "markdown",
   "id": "486233d9",
   "metadata": {},
   "source": [
    "### 2.4 Transform Function"
   ]
  },
  {
   "cell_type": "code",
   "execution_count": 13,
   "id": "9bd60fdc",
   "metadata": {},
   "outputs": [],
   "source": [
    "def transform(img_path, model, use_cuda):\n",
    "    '''\n",
    "    Use autoencode to transform an image:\n",
    "    compress it and expand it.\n",
    "    If the model is trained correctly, the expanded image\n",
    "    should be similar to the input.\n",
    "    \n",
    "    Args:\n",
    "        img_path: path to an image\n",
    "        \n",
    "    Returns:\n",
    "        transformed image tensor\n",
    "    '''\n",
    "\n",
    "    # Note: transforms takes PIL formatted images, not numpy arrays\n",
    "    img = Image.open(img_path) \n",
    "    \n",
    "    # ImageNet dataset requires a specific mean & std normalization\n",
    "    data_transforms = transforms.Compose([\n",
    "        transforms.Resize(230),\n",
    "        transforms.CenterCrop(size=224),\n",
    "        transforms.ToTensor(),\n",
    "        transforms.Normalize([0.5, 0.5, 0.5], [0.5, 0.5, 0.5])\n",
    "        ])\n",
    "\n",
    "    # Apply data data transformations and add a dimension for batches\n",
    "    img_batch = data_transforms(img).unsqueeze(0)\n",
    "\n",
    "    if use_cuda:\n",
    "        model = model.cuda()\n",
    "        img_batch = img_batch.to(\"cuda\", dtype=torch.float)\n",
    "    \n",
    "    # Set in evaluation mode! (De-activate dropout, etc.)\n",
    "    model.eval()\n",
    "    \n",
    "    # Predict. Apply softmax to convert logits\n",
    "    with torch.no_grad():\n",
    "        # Prediction\n",
    "        img_compr = model.encode(img_batch)\n",
    "        img_trans = model.decode(img_compr)\n",
    "        img_compr = img_compr.squeeze(0).cpu()\n",
    "        img_trans = img_trans.squeeze(0).cpu()\n",
    "    \n",
    "    # Transform compressed representation to a vector\n",
    "    img_compr = img_compr.view(1, -1)\n",
    "    \n",
    "    return img_compr, img_trans"
   ]
  },
  {
   "cell_type": "code",
   "execution_count": 14,
   "id": "2c4bb5b4",
   "metadata": {},
   "outputs": [
    {
     "name": "stdout",
     "output_type": "stream",
     "text": [
      "./data/train/melanoma/ISIC_0000031.jpg\n",
      "(1, 392)\n",
      "torch.Size([3, 224, 224])\n"
     ]
    }
   ],
   "source": [
    "img_path = train_all[0]\n",
    "print(img_path)\n",
    "img_compr, img_trans = transform(img_path, model, use_cuda)\n",
    "# Check sizes\n",
    "print(img_compr.numpy().shape)\n",
    "print(img_trans.size())"
   ]
  },
  {
   "cell_type": "code",
   "execution_count": 15,
   "id": "a5d08ca3",
   "metadata": {},
   "outputs": [
    {
     "data": {
      "image/png": "[encoded data removed]",
      "text/plain": [
       "<Figure size 432x288 with 1 Axes>"
      ]
     },
     "metadata": {
      "needs_background": "light"
     },
     "output_type": "display_data"
    }
   ],
   "source": [
    "# Since the autoecoder is not trained, we should see a gray image\n",
    "visualize(img_trans)"
   ]
  },
  {
   "cell_type": "markdown",
   "id": "ce978e3c",
   "metadata": {},
   "source": [
    "### 2.5 Training"
   ]
  },
  {
   "cell_type": "code",
   "execution_count": 16,
   "id": "db861df1",
   "metadata": {},
   "outputs": [],
   "source": [
    "import torch.optim as optim\n",
    "\n",
    "criterion = nn.MSELoss()\n",
    "optimizer = optim.Adam(model.parameters(), lr=0.001) # 0.01, 0.003\n",
    "#optimizer = optim.SGD(model.parameters(), lr=0.001) # 0.01, 0.003"
   ]
  },
  {
   "cell_type": "code",
   "execution_count": 17,
   "id": "77fb3ce6",
   "metadata": {},
   "outputs": [],
   "source": [
    "import time\n",
    "\n",
    "def train(n_epochs, loaders, model, optimizer, criterion, use_cuda, save_path):\n",
    "    \"\"\"Returns trained model\"\"\"\n",
    "    valid_loss_min = np.Inf\n",
    "    loss_history = {'train': [], 'valid': []}\n",
    " \n",
    "    if use_cuda:\n",
    "        model = model.cuda()\n",
    "        \n",
    "    for epoch in range(1, n_epochs+1):\n",
    "        train_loss = 0.0\n",
    "        valid_loss = 0.0\n",
    "        num_images_train = 0\n",
    "        num_images_valid = 0\n",
    "        \n",
    "        ###################\n",
    "        # Train the model #\n",
    "        ###################\n",
    "        model.train()\n",
    "\n",
    "        t1 = time.time()\n",
    "            \n",
    "        for batch_idx, (data, target) in enumerate(loaders['train']):\n",
    "            if use_cuda:\n",
    "                data, target = data.cuda(), target.cuda()\n",
    "            \n",
    "            optimizer.zero_grad() # reset gradients\n",
    "\n",
    "            img_trans = model(data) # forward pass\n",
    "            loss = criterion(img_trans, data) # compute loss\n",
    "\n",
    "            loss.backward() # compute gradient / backpropagation\n",
    "            optimizer.step() # update weights\n",
    "            \n",
    "            train_loss = train_loss + ((1 / (batch_idx + 1)) * (loss.data - train_loss))\n",
    "            #train_loss += loss.item()\n",
    "            #num_images_train += data.size(0)\n",
    "            \n",
    "            if batch_idx%20 == 0:\n",
    "                #print(f'Epoch: {epoch}, Training Loss: {train_loss/num_images_train:.6f} ')\n",
    "                print(f'Epoch: {epoch}, Training Loss: {train_loss:.6f} ')\n",
    "            \n",
    "        ######################    \n",
    "        # Validate the model #\n",
    "        ######################\n",
    "        model.eval()\n",
    "        for batch_idx, (data, target) in enumerate(loaders['valid']):\n",
    "            if use_cuda:\n",
    "                data, target = data.cuda(), target.cuda()\n",
    "            with torch.no_grad():\n",
    "                img_trans = model(data) # forward pass\n",
    "                loss = criterion(img_trans, data) # compute loss\n",
    "                valid_loss = valid_loss + ((1 / (batch_idx + 1)) * (loss.data - valid_loss))\n",
    "                #valid_loss += loss.item()\n",
    "                #num_images_valid += data.size(0)\n",
    "        \n",
    "        #train_loss /= len(loaders['train'].dataset)\n",
    "        #valid_loss /= len(loaders['valid'].dataset)\n",
    "        #train_loss /= num_images_train\n",
    "        #valid_loss /= num_images_valid\n",
    "        loss_history['train'].append(train_loss)\n",
    "        loss_history['valid'].append(valid_loss)\n",
    "        \n",
    "        t2 = time.time()\n",
    "        duration = t2-t1\n",
    "        \n",
    "        print('-> Epoch: {} \\tTrain. Loss: {:.6f} \\tVal. Loss: {:.6f} \\tDuration: {:.2f} sec.'.format(\n",
    "            epoch, \n",
    "            train_loss,\n",
    "            valid_loss,\n",
    "            duration\n",
    "            ))\n",
    "        \n",
    "        if valid_loss < valid_loss_min:\n",
    "            save_model(save_path, model)\n",
    "    \n",
    "    return model, loss_history"
   ]
  },
  {
   "cell_type": "code",
   "execution_count": null,
   "id": "510498fd",
   "metadata": {},
   "outputs": [],
   "source": [
    "# Train the model\n",
    "filepath = './models/autoencoder_best.pt'\n",
    "n_epochs = 20 # 100\n",
    "\n",
    "#from workspace_utils import active_session\n",
    "#with active_session():\n",
    "\n",
    "model, loss = train(n_epochs, loaders, model, optimizer, criterion, use_cuda, filepath)"
   ]
  },
  {
   "cell_type": "code",
   "execution_count": null,
   "id": "3c8bffa4",
   "metadata": {},
   "outputs": [],
   "source": [
    "# Plot the loss evolution\n",
    "from matplotlib import pyplot as plt\n",
    "plt.plot(loss['train'][:], label='Training loss')\n",
    "plt.plot(loss['valid'][:], label='Validation loss')\n",
    "plt.legend(frameon=False)"
   ]
  },
  {
   "cell_type": "markdown",
   "id": "3d62680e",
   "metadata": {},
   "source": [
    "## 3. Evaluation"
   ]
  },
  {
   "cell_type": "code",
   "execution_count": null,
   "id": "5c726224",
   "metadata": {},
   "outputs": [],
   "source": [
    "# Load the model that got the best validation accuracy\n",
    "filepath = './models/autoencoder_best.pt'\n",
    "model = load_checkpoint(filepath, model)"
   ]
  },
  {
   "cell_type": "markdown",
   "id": "10a2008b",
   "metadata": {},
   "source": [
    "### 3.1 Test One Image"
   ]
  },
  {
   "cell_type": "code",
   "execution_count": null,
   "id": "5933e393",
   "metadata": {},
   "outputs": [],
   "source": [
    "img_path = train_all[0]\n",
    "print(img_path)\n",
    "img_compr, img_trans = transform(img_path, model, use_cuda)\n",
    "# Check sizes\n",
    "print(img_compr.numpy().shape)\n",
    "print(img_trans.size())"
   ]
  },
  {
   "cell_type": "code",
   "execution_count": null,
   "id": "12e4bf32",
   "metadata": {},
   "outputs": [],
   "source": [
    "# Since the autoecoder is not trained, we should see a gray image\n",
    "visualize(img_trans)"
   ]
  },
  {
   "cell_type": "code",
   "execution_count": null,
   "id": "2fe7d35d",
   "metadata": {},
   "outputs": [],
   "source": [
    "img = cv2.imread(img_path)\n",
    "img = cv2.cvtColor(img, cv2.COLOR_BGR2RGB)\n",
    "plt.imshow(img)"
   ]
  },
  {
   "cell_type": "markdown",
   "id": "4f2ed945",
   "metadata": {},
   "source": [
    "### 3.2 Performance with the Test Split"
   ]
  },
  {
   "cell_type": "code",
   "execution_count": null,
   "id": "c1bcc026",
   "metadata": {},
   "outputs": [],
   "source": []
  }
 ],
 "metadata": {
  "kernelspec": {
   "display_name": "Python 3",
   "language": "python",
   "name": "python3"
  },
  "language_info": {
   "codemirror_mode": {
    "name": "ipython",
    "version": 3
   },
   "file_extension": ".py",
   "mimetype": "text/x-python",
   "name": "python",
   "nbconvert_exporter": "python",
   "pygments_lexer": "ipython3",
   "version": "3.6.13"
  }
 },
 "nbformat": 4,
 "nbformat_minor": 5
}
