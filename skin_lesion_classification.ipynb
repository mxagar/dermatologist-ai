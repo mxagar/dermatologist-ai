{
 "cells": [
  {
   "cell_type": "markdown",
   "id": "9050b75f",
   "metadata": {
    "id": "9050b75f"
   },
   "source": [
    "# Skin Lesions: Classification with CNNs"
   ]
  },
  {
   "cell_type": "markdown",
   "id": "427250a0",
   "metadata": {
    "id": "427250a0"
   },
   "source": [
    "This notebook contains the definition and evaluation of a Convolutional Neural Network (CNN) which aims to classify skin lesion images into three categories:\n",
    "\n",
    "- [Melanoma](https://es.wikipedia.org/wiki/Melanoma): **malign** cancer, one of the deadliest.\n",
    "- [Nevus](https://en.wikipedia.org/wiki/Nevus): **benign** skin lesion (mole or birthmark).\n",
    "- [Seborrheic keratosis](https://en.wikipedia.org/wiki/Seborrheic_keratosis): **benign** skin tumor.\n",
    "\n",
    "![Skin Disease Classes](https://github.com/mxagar/dermatologist-ai/blob/master/images/skin_disease_classes.png?raw=1)\n",
    "\n",
    "The project uses the images from the [2017 ISIC Challenge on Skin Lesion Analysis Towards Melanoma Detection](https://challenge.isic-archive.com/landing/2017/). Although the challenge is already closed, information on the competition can be obtained from the official [website](https://challenge.isic-archive.com/landing/2017/).\n",
    "\n",
    "I downloaded the dataset from the following links provided by Udacity to the non-committed folder `data/`, which is subdivided in the train, validation and test subfolders as well as class-name subfolders:\n",
    "\n",
    "- [training data](https://s3-us-west-1.amazonaws.com/udacity-dlnfd/datasets/skin-cancer/train.zip) (5.3 GB)\n",
    "- [validation data](https://s3-us-west-1.amazonaws.com/udacity-dlnfd/datasets/skin-cancer/valid.zip) (824.5 MB)\n",
    "- [test data](https://s3-us-west-1.amazonaws.com/udacity-dlnfd/datasets/skin-cancer/test.zip) (5.1 GB)\n",
    "\n",
    "The images originate from the [ISIC Archive](https://www.isic-archive.com/).\n",
    "\n",
    "Note that **the present notebook deals with the classification task**; if you are interested in the structure of the dataset, please open the notebook [dataset_structure_visualization.ipynb](./dataset_structure_visualization.ipynb); there, autoencoders are used to find compressed representations of the images.\n",
    "\n",
    "**Table of Contents**:\n",
    "\n",
    "- [1. Load Dataset](#1.-Load-Dataset)\n",
    "    - 1.1 Check Counts\n",
    "    - 1.2 Visualize some Images\n",
    "    - 1.3 Define Data Loaders\n",
    "    - 1.4 Tensor Visualization Function\n",
    "- [2. Model Definition and Training](#2.-Model-Definition-and-Training)\n",
    "    - 2.1 Backbone\n",
    "    - 2.2 Transfer Learning: Classiffier\n",
    "    - 2.3 Save and Load Functions\n",
    "    - 2.4 Prediction Function\n",
    "    - 2.5 Training\n",
    "- [3. Model Evaluation](#3.-Model-Evaluation)\n",
    "    - 3.1 Performance with the Test Split\n",
    "    - 3.2 Evaluation Metrics and Plots\n",
    "    - 3.3 Save Results\n",
    "- [4. Conclusions and Notes](#4.-Conclusions-and-Notes)"
   ]
  },
  {
   "cell_type": "markdown",
   "id": "98825a0f",
   "metadata": {
    "id": "98825a0f"
   },
   "source": [
    "## 1. Load Dataset"
   ]
  },
  {
   "cell_type": "markdown",
   "id": "xD4hun82w-VK",
   "metadata": {
    "id": "xD4hun82w-VK"
   },
   "source": [
    "The next cells download the dataset from the links provided above. If you already have a `data/` folder with the images, you don't need to run this."
   ]
  },
  {
   "cell_type": "code",
   "execution_count": 1,
   "id": "HRGcIKj3rYA4",
   "metadata": {
    "colab": {
     "base_uri": "https://localhost:8080/"
    },
    "id": "HRGcIKj3rYA4",
    "outputId": "8d2349a4-2b36-471a-bda3-0080c2440578"
   },
   "outputs": [
    {
     "name": "stdout",
     "output_type": "stream",
     "text": [
      "train.zip.1           3%[                    ] 192.46M  94.6MB/s               ^C\n",
      "valid.zip.1           1%[                    ]   8.67M  41.5MB/s               ^C\n",
      "test.zip.1            0%[                    ]  30.77M  75.4MB/s               ^C\n"
     ]
    }
   ],
   "source": [
    "# https://s3-us-west-1.amazonaws.com/udacity-dlnfd/datasets/skin-cancer/train.zip\n",
    "# https://s3-us-west-1.amazonaws.com/udacity-dlnfd/datasets/skin-cancer/valid.zip\n",
    "# https://s3-us-west-1.amazonaws.com/udacity-dlnfd/datasets/skin-cancer/test.zip\n",
    "\n",
    "!wget -q --show-progress -P data/ https://s3-us-west-1.amazonaws.com/udacity-dlnfd/datasets/skin-cancer/train.zip\n",
    "!wget -q --show-progress -P data/ https://s3-us-west-1.amazonaws.com/udacity-dlnfd/datasets/skin-cancer/valid.zip\n",
    "!wget -q --show-progress -P data/ https://s3-us-west-1.amazonaws.com/udacity-dlnfd/datasets/skin-cancer/test.zip"
   ]
  },
  {
   "cell_type": "code",
   "execution_count": 2,
   "id": "x8ZxMSJaufCH",
   "metadata": {
    "id": "x8ZxMSJaufCH"
   },
   "outputs": [],
   "source": [
    "%%sh\n",
    "# Unzip the dataset\n",
    "cd ./data\n",
    "unzip -q train.zip\n",
    "unzip -q test.zip\n",
    "unzip -q valid.zip"
   ]
  },
  {
   "cell_type": "code",
   "execution_count": 1,
   "id": "lHfCrUjkx2zD",
   "metadata": {
    "colab": {
     "base_uri": "https://localhost:8080/"
    },
    "id": "lHfCrUjkx2zD",
    "outputId": "29021c2e-eb45-4746-ce8d-5a11ef69da83"
   },
   "outputs": [
    {
     "name": "stdout",
     "output_type": "stream",
     "text": [
      "Sat Oct  1 10:52:49 2022       \n",
      "+-----------------------------------------------------------------------------+\n",
      "| NVIDIA-SMI 460.32.03    Driver Version: 460.32.03    CUDA Version: 11.2     |\n",
      "|-------------------------------+----------------------+----------------------+\n",
      "| GPU  Name        Persistence-M| Bus-Id        Disp.A | Volatile Uncorr. ECC |\n",
      "| Fan  Temp  Perf  Pwr:Usage/Cap|         Memory-Usage | GPU-Util  Compute M. |\n",
      "|                               |                      |               MIG M. |\n",
      "|===============================+======================+======================|\n",
      "|   0  Tesla T4            Off  | 00000000:00:04.0 Off |                    0 |\n",
      "| N/A   53C    P8    10W /  70W |      0MiB / 15109MiB |      0%      Default |\n",
      "|                               |                      |                  N/A |\n",
      "+-------------------------------+----------------------+----------------------+\n",
      "                                                                               \n",
      "+-----------------------------------------------------------------------------+\n",
      "| Processes:                                                                  |\n",
      "|  GPU   GI   CI        PID   Type   Process name                  GPU Memory |\n",
      "|        ID   ID                                                   Usage      |\n",
      "|=============================================================================|\n",
      "|  No running processes found                                                 |\n",
      "+-----------------------------------------------------------------------------+\n"
     ]
    }
   ],
   "source": [
    "# Check GPU info (Google Colab)\n",
    "gpu_info = !nvidia-smi\n",
    "gpu_info = '\\n'.join(gpu_info)\n",
    "if gpu_info.find('failed') >= 0:\n",
    "  print('Not connected to a GPU')\n",
    "else:\n",
    "  print(gpu_info)"
   ]
  },
  {
   "cell_type": "markdown",
   "id": "bc2d615b",
   "metadata": {
    "id": "bc2d615b"
   },
   "source": [
    "### 1.1 Check Counts"
   ]
  },
  {
   "cell_type": "markdown",
   "id": "4b07bd5c",
   "metadata": {
    "id": "4b07bd5c"
   },
   "source": [
    "First, let's check how balanced the ddataset is across splits and classes."
   ]
  },
  {
   "cell_type": "code",
   "execution_count": 2,
   "id": "8a3acf0c",
   "metadata": {
    "colab": {
     "base_uri": "https://localhost:8080/"
    },
    "id": "8a3acf0c",
    "outputId": "631979bc-8708-44ea-9c03-010fb3085469"
   },
   "outputs": [
    {
     "name": "stdout",
     "output_type": "stream",
     "text": [
      "Train: all: 2000\n",
      "Train: melanoma: 374, 18.7 %\n",
      "Train: nevus: 1372, 68.6 %\n",
      "Train: seborrheic keratosis: 254, 12.7 %\n",
      "Test: all: 600\n",
      "Test: melanoma: 117, 19.5 %\n",
      "Test: nevus: 393, 65.5 %\n",
      "Test: seborrheic keratosis: 90, 15.0 %\n",
      "Validation: all: 150\n",
      "Validation: melanoma: 30, 20.0 %\n",
      "Validation: nevus: 78, 52.0 %\n",
      "Validation: seborrheic keratosis: 42, 28.0 %\n"
     ]
    }
   ],
   "source": [
    "import numpy as np\n",
    "from glob import glob\n",
    "\n",
    "ROOT_PATH = './data/'\n",
    "\n",
    "train_melanoma = list(glob(ROOT_PATH+\"train/melanoma/*\"))\n",
    "train_nevus = list(glob(ROOT_PATH+\"train/nevus/*\"))\n",
    "train_seborrheic = list(glob(ROOT_PATH+\"train/seborrheic_keratosis/*\"))\n",
    "train_all = train_melanoma + train_nevus + train_seborrheic\n",
    "\n",
    "print(f'Train: all: {len(train_all)}')\n",
    "print(f'Train: melanoma: {len(train_melanoma)}, {100*float(len(train_melanoma))/float(len(train_all))} %')\n",
    "print(f'Train: nevus: {len(train_nevus)}, {float(100*len(train_nevus))/float(len(train_all))} %')\n",
    "print(f'Train: seborrheic keratosis: {len(train_seborrheic)}, {100*float(len(train_seborrheic))/float(len(train_all))} %')\n",
    "\n",
    "test_melanoma = list(glob(ROOT_PATH+\"test/melanoma/*\"))\n",
    "test_nevus = list(glob(ROOT_PATH+\"test/nevus/*\"))\n",
    "test_seborrheic = list(glob(ROOT_PATH+\"test/seborrheic_keratosis/*\"))\n",
    "test_all = test_melanoma + test_nevus + test_seborrheic\n",
    "\n",
    "print(f'Test: all: {len(test_all)}')\n",
    "print(f'Test: melanoma: {len(test_melanoma)}, {100*float(len(test_melanoma))/float(len(test_all))} %')\n",
    "print(f'Test: nevus: {len(test_nevus)}, {float(100*len(test_nevus))/float(len(test_all))} %')\n",
    "print(f'Test: seborrheic keratosis: {len(test_seborrheic)}, {100*float(len(test_seborrheic))/float(len(test_all))} %')\n",
    "\n",
    "valid_melanoma = list(glob(ROOT_PATH+\"valid/melanoma/*\"))\n",
    "valid_nevus = list(glob(ROOT_PATH+\"valid/nevus/*\"))\n",
    "valid_seborrheic = list(glob(ROOT_PATH+\"valid/seborrheic_keratosis/*\"))\n",
    "valid_all = valid_melanoma + valid_nevus + valid_seborrheic\n",
    "\n",
    "print(f'Validation: all: {len(valid_all)}')\n",
    "print(f'Validation: melanoma: {len(valid_melanoma)}, {100*float(len(valid_melanoma))/float(len(valid_all))} %')\n",
    "print(f'Validation: nevus: {len(valid_nevus)}, {float(100*len(valid_nevus))/float(len(valid_all))} %')\n",
    "print(f'Validation: seborrheic keratosis: {len(valid_seborrheic)}, {100*float(len(valid_seborrheic))/float(len(valid_all))} %')"
   ]
  },
  {
   "cell_type": "markdown",
   "id": "15f74d27",
   "metadata": {
    "id": "15f74d27"
   },
   "source": [
    "### 1.2 Visualize some Images"
   ]
  },
  {
   "cell_type": "markdown",
   "id": "c7bc8065",
   "metadata": {
    "id": "c7bc8065"
   },
   "source": [
    "Even though I visualize the image with OpenCV here, Pytorch works with PIL images, not numpy arrays; thus, I will need to define another function later on."
   ]
  },
  {
   "cell_type": "code",
   "execution_count": 3,
   "id": "c34b2594",
   "metadata": {
    "id": "c34b2594"
   },
   "outputs": [],
   "source": [
    "import cv2                \n",
    "import matplotlib.pyplot as plt                        \n",
    "%matplotlib inline"
   ]
  },
  {
   "cell_type": "code",
   "execution_count": 4,
   "id": "15bccebc",
   "metadata": {
    "colab": {
     "base_uri": "https://localhost:8080/",
     "height": 286
    },
    "id": "15bccebc",
    "outputId": "d2e6c7dd-0502-4329-c458-2acdb0f6532a"
   },
   "outputs": [
    {
     "data": {
      "text/plain": [
       "<matplotlib.image.AxesImage at 0x7fdc9acc0dd0>"
      ]
     },
     "execution_count": 4,
     "metadata": {},
     "output_type": "execute_result"
    },
    {
     "data": {
      "image/png": "[encoded data removed]",
      "text/plain": [
       "<Figure size 432x288 with 1 Axes>"
      ]
     },
     "metadata": {
      "needs_background": "light"
     },
     "output_type": "display_data"
    }
   ],
   "source": [
    "#file = train_melanoma[0]\n",
    "#file = train_nevus[0]\n",
    "file = train_seborrheic[0]\n",
    "img = cv2.imread(file)\n",
    "img = cv2.cvtColor(img, cv2.COLOR_BGR2RGB)\n",
    "plt.imshow(img)"
   ]
  },
  {
   "cell_type": "markdown",
   "id": "15d21921",
   "metadata": {
    "id": "15d21921"
   },
   "source": [
    "### 1.3 Define Data Loaders"
   ]
  },
  {
   "cell_type": "code",
   "execution_count": 5,
   "id": "db32089a",
   "metadata": {
    "id": "db32089a"
   },
   "outputs": [],
   "source": [
    "import os\n",
    "from PIL import Image, ImageFile\n",
    "ImageFile.LOAD_TRUNCATED_IMAGES = True\n",
    "\n",
    "import torch\n",
    "import torchvision.transforms as transforms\n",
    "from torchvision import datasets\n",
    "\n",
    "# When transfer-learning is used we need to adapt our dataset\n",
    "# to how the pre-trained networks were trained.\n",
    "# In the case of VGG16/DenseNet/ResNet/Inception,\n",
    "# they were trained with ImageNet, that means:\n",
    "# resizing to 224x224 & scaling each channel independently:\n",
    "# mean = [0.485, 0.456, 0.406], std = [0.229, 0.224, 0.225]\n",
    "# However, note that if we define our own network and train it, \n",
    "# we can use our own size and normalization,\n",
    "# e.g.: 200x200, mean = [0.5, 0.5, 0.5], std = [0.5, 0.5, 0.5]\n",
    "\n",
    "trainpath = ROOT_PATH+'train'\n",
    "testpath = ROOT_PATH+'test'\n",
    "validpath = ROOT_PATH+'valid'\n",
    "batch_size = 64 # 20, 16, 128, 64\n",
    "\n",
    "# Training data with augmentation (recommended)\n",
    "train_transforms = transforms.Compose([\n",
    "                                       transforms.RandomRotation(10),\n",
    "                                       transforms.Resize(230),\n",
    "                                       #transforms.CenterCrop(224),\n",
    "                                       #transforms.RandomResizedCrop(224),\n",
    "                                       transforms.RandomHorizontalFlip(),\n",
    "                                       transforms.CenterCrop(224),\n",
    "                                       transforms.ToTensor(), # map values to [0,1]\n",
    "                                       transforms.Normalize([0.485, 0.456, 0.406], \n",
    "                                                            [0.229, 0.224, 0.225])])\n",
    "# Test data without augmentation\n",
    "test_transforms = transforms.Compose([ \n",
    "                                       transforms.Resize(230),\n",
    "                                       transforms.CenterCrop(224),\n",
    "                                       transforms.ToTensor(), # map values to [0,1]\n",
    "                                       transforms.Normalize([0.485, 0.456, 0.406], \n",
    "                                                            [0.229, 0.224, 0.225])])\n",
    "\n",
    "# Validation data without augmentation\n",
    "valid_transforms = transforms.Compose([\n",
    "                                       transforms.Resize(230),\n",
    "                                       transforms.CenterCrop(224),\n",
    "                                       transforms.ToTensor(), # map values to [0,1]\n",
    "                                       transforms.Normalize([0.485, 0.456, 0.406], \n",
    "                                                            [0.229, 0.224, 0.225])])\n",
    "\n",
    "\n",
    "# Pass transforms in here, then run the next cell to see how the transforms look\n",
    "train_data = datasets.ImageFolder(trainpath, transform=train_transforms)\n",
    "test_data = datasets.ImageFolder(testpath, transform=test_transforms)\n",
    "valid_data = datasets.ImageFolder(validpath, transform=valid_transforms)\n",
    "\n",
    "# IMPORTANT: Set shuffle=False in the TEST data loader creation\n",
    "# to preserve filename-sample link\n",
    "trainloader = torch.utils.data.DataLoader(train_data, batch_size=batch_size, shuffle=True)\n",
    "testloader = torch.utils.data.DataLoader(test_data, batch_size=batch_size, shuffle=False) # shuffle=False!\n",
    "validloader = torch.utils.data.DataLoader(valid_data, batch_size=batch_size, shuffle=True)\n",
    "\n",
    "loaders = {}\n",
    "loaders['train'] = trainloader\n",
    "loaders['test'] = testloader\n",
    "loaders['valid'] = validloader"
   ]
  },
  {
   "cell_type": "code",
   "execution_count": 6,
   "id": "6dd59116",
   "metadata": {
    "colab": {
     "base_uri": "https://localhost:8080/"
    },
    "id": "6dd59116",
    "outputId": "80375431-1cb4-4f4b-e043-211afe6008e9"
   },
   "outputs": [
    {
     "name": "stdout",
     "output_type": "stream",
     "text": [
      "['melanoma', 'nevus', 'seborrheic keratosis']\n"
     ]
    }
   ],
   "source": [
    "# We can automatically access the class names\n",
    "num_classes = len(train_data.classes)\n",
    "class_names = [item.replace(\"_\", \" \") for item in train_data.classes]\n",
    "print(class_names)"
   ]
  },
  {
   "cell_type": "markdown",
   "id": "0755037b",
   "metadata": {
    "id": "0755037b"
   },
   "source": [
    "### 1.4 Tensor Visualization Function"
   ]
  },
  {
   "cell_type": "markdown",
   "id": "2b340297",
   "metadata": {
    "id": "2b340297"
   },
   "source": [
    "Note that Pytorch images are not loaded as numpy arrays, but as PIL images. Thus I define a simple function that given a PIL image visualizes it."
   ]
  },
  {
   "cell_type": "code",
   "execution_count": 7,
   "id": "a6685047",
   "metadata": {
    "id": "a6685047"
   },
   "outputs": [],
   "source": [
    "def visualize(image):\n",
    "    '''Visualizes one tensor-image'''\n",
    "    # Convert to numpy and (C,W,H) -> (W,H,C)\n",
    "    img = image.cpu().numpy().squeeze().transpose((1, 2, 0))\n",
    "    # Undo normalization\n",
    "    mean = np.array([0.485, 0.456, 0.406])\n",
    "    std = np.array([0.229, 0.224, 0.225])\n",
    "    image = std * img + mean\n",
    "    image = np.clip(image, 0, 1)\n",
    "    plt.imshow(image)"
   ]
  },
  {
   "cell_type": "code",
   "execution_count": 8,
   "id": "894fa59a",
   "metadata": {
    "colab": {
     "base_uri": "https://localhost:8080/",
     "height": 324
    },
    "id": "894fa59a",
    "outputId": "1cb5bf9c-42be-480a-91a3-00c01c756c3f"
   },
   "outputs": [
    {
     "name": "stdout",
     "output_type": "stream",
     "text": [
      "Target labels: [0 0 0 0 0 0 0 0 0 0 0 0 0 0 0 0 0 0 0 0 0 0 0 0 0 0 0 0 0 0 0 0 0 0 0 0 0\n",
      " 0 0 0 0 0 0 0 0 0 0 0 0 0 0 0 0 0 0 0 0 0 0 0 0 0 0 0] -> ['melanoma', 'melanoma', 'melanoma', 'melanoma', 'melanoma', 'melanoma', 'melanoma', 'melanoma', 'melanoma', 'melanoma', 'melanoma', 'melanoma', 'melanoma', 'melanoma', 'melanoma', 'melanoma', 'melanoma', 'melanoma', 'melanoma', 'melanoma', 'melanoma', 'melanoma', 'melanoma', 'melanoma', 'melanoma', 'melanoma', 'melanoma', 'melanoma', 'melanoma', 'melanoma', 'melanoma', 'melanoma', 'melanoma', 'melanoma', 'melanoma', 'melanoma', 'melanoma', 'melanoma', 'melanoma', 'melanoma', 'melanoma', 'melanoma', 'melanoma', 'melanoma', 'melanoma', 'melanoma', 'melanoma', 'melanoma', 'melanoma', 'melanoma', 'melanoma', 'melanoma', 'melanoma', 'melanoma', 'melanoma', 'melanoma', 'melanoma', 'melanoma', 'melanoma', 'melanoma', 'melanoma', 'melanoma', 'melanoma', 'melanoma']\n"
     ]
    },
    {
     "data": {
      "image/png": "[encoded data removed]",
      "text/plain": [
       "<Figure size 432x288 with 1 Axes>"
      ]
     },
     "metadata": {
      "needs_background": "light"
     },
     "output_type": "display_data"
    }
   ],
   "source": [
    "# Take next batch\n",
    "data_iter = iter(testloader)\n",
    "images, labels = next(data_iter)\n",
    "\n",
    "# Print labels\n",
    "print(f'Target labels: {labels.data.numpy()} -> {[class_names[i] for i in labels.data.numpy()]}')\n",
    "\n",
    "# Visualize one image from the batch\n",
    "image = images[0]\n",
    "visualize(image)"
   ]
  },
  {
   "cell_type": "markdown",
   "id": "3c6d263d",
   "metadata": {
    "id": "3c6d263d"
   },
   "source": [
    "## 2. Model Definition and Training"
   ]
  },
  {
   "cell_type": "markdown",
   "id": "544dcfe7",
   "metadata": {
    "id": "544dcfe7"
   },
   "source": [
    "I will use transfer learning to leverage models that have already been trained on [ImageNet](https://www.image-net.org). [Esteva et al.](https://www.nature.com/articles/nature21056.epdf?author_access_token=8oxIcYWf5UNrNpHsUHd2StRgN0jAjWel9jnR3ZoTv0NXpMHRAJy8Qn10ys2O4tuPakXos4UhQAFZ750CsBNMMsISFHIKinKDMKjShCpHIlYPYUHhNzkn6pSnOCt0Ftf6) report very nice results with a model that uses [Inception-V3](https://en.wikipedia.org/wiki/Inceptionv3) as backbone; however, note that the authors did many things significantly differently compared to me:\n",
    "\n",
    "- They fine-tuned the model, i.e., they started with the weights of the pre-trained backbone but optimized them for the dataset.\n",
    "- They worked on the dataset to clean and extend it.\n",
    "- The problem definition was another one.\n",
    "\n",
    "Since there seem to be padding issues with the Inception-V3 network, I try the [ResNet50](https://en.wikipedia.org/wiki/Residual_neural_network) network. Residual nets are very good performing architectures, because they avoid the vanishing gradient problem while still allowing very deep models, i.e., with many layers."
   ]
  },
  {
   "cell_type": "markdown",
   "id": "9a00c2a5",
   "metadata": {
    "id": "9a00c2a5"
   },
   "source": [
    "### 2.1 Backbone"
   ]
  },
  {
   "cell_type": "code",
   "execution_count": 9,
   "id": "c3b85614",
   "metadata": {
    "colab": {
     "base_uri": "https://localhost:8080/"
    },
    "id": "c3b85614",
    "outputId": "518a72d1-6333-4bf0-daa9-bf1cde897e2d"
   },
   "outputs": [
    {
     "name": "stderr",
     "output_type": "stream",
     "text": [
      "/usr/local/lib/python3.7/dist-packages/torchvision/models/_utils.py:209: UserWarning: The parameter 'pretrained' is deprecated since 0.13 and will be removed in 0.15, please use 'weights' instead.\n",
      "  f\"The parameter '{pretrained_param}' is deprecated since 0.13 and will be removed in 0.15, \"\n",
      "/usr/local/lib/python3.7/dist-packages/torchvision/models/_utils.py:223: UserWarning: Arguments other than a weight enum or `None` for 'weights' are deprecated since 0.13 and will be removed in 0.15. The current behavior is equivalent to passing `weights=ResNet50_Weights.IMAGENET1K_V1`. You can also use `weights=ResNet50_Weights.DEFAULT` to get the most up-to-date weights.\n",
      "  warnings.warn(msg)\n"
     ]
    },
    {
     "name": "stdout",
     "output_type": "stream",
     "text": [
      "ResNet(\n",
      "  (conv1): Conv2d(3, 64, kernel_size=(7, 7), stride=(2, 2), padding=(3, 3), bias=False)\n",
      "  (bn1): BatchNorm2d(64, eps=1e-05, momentum=0.1, affine=True, track_running_stats=True)\n",
      "  (relu): ReLU(inplace=True)\n",
      "  (maxpool): MaxPool2d(kernel_size=3, stride=2, padding=1, dilation=1, ceil_mode=False)\n",
      "  (layer1): Sequential(\n",
      "    (0): Bottleneck(\n",
      "      (conv1): Conv2d(64, 64, kernel_size=(1, 1), stride=(1, 1), bias=False)\n",
      "      (bn1): BatchNorm2d(64, eps=1e-05, momentum=0.1, affine=True, track_running_stats=True)\n",
      "      (conv2): Conv2d(64, 64, kernel_size=(3, 3), stride=(1, 1), padding=(1, 1), bias=False)\n",
      "      (bn2): BatchNorm2d(64, eps=1e-05, momentum=0.1, affine=True, track_running_stats=True)\n",
      "      (conv3): Conv2d(64, 256, kernel_size=(1, 1), stride=(1, 1), bias=False)\n",
      "      (bn3): BatchNorm2d(256, eps=1e-05, momentum=0.1, affine=True, track_running_stats=True)\n",
      "      (relu): ReLU(inplace=True)\n",
      "      (downsample): Sequential(\n",
      "        (0): Conv2d(64, 256, kernel_size=(1, 1), stride=(1, 1), bias=False)\n",
      "        (1): BatchNorm2d(256, eps=1e-05, momentum=0.1, affine=True, track_running_stats=True)\n",
      "      )\n",
      "    )\n",
      "    (1): Bottleneck(\n",
      "      (conv1): Conv2d(256, 64, kernel_size=(1, 1), stride=(1, 1), bias=False)\n",
      "      (bn1): BatchNorm2d(64, eps=1e-05, momentum=0.1, affine=True, track_running_stats=True)\n",
      "      (conv2): Conv2d(64, 64, kernel_size=(3, 3), stride=(1, 1), padding=(1, 1), bias=False)\n",
      "      (bn2): BatchNorm2d(64, eps=1e-05, momentum=0.1, affine=True, track_running_stats=True)\n",
      "      (conv3): Conv2d(64, 256, kernel_size=(1, 1), stride=(1, 1), bias=False)\n",
      "      (bn3): BatchNorm2d(256, eps=1e-05, momentum=0.1, affine=True, track_running_stats=True)\n",
      "      (relu): ReLU(inplace=True)\n",
      "    )\n",
      "    (2): Bottleneck(\n",
      "      (conv1): Conv2d(256, 64, kernel_size=(1, 1), stride=(1, 1), bias=False)\n",
      "      (bn1): BatchNorm2d(64, eps=1e-05, momentum=0.1, affine=True, track_running_stats=True)\n",
      "      (conv2): Conv2d(64, 64, kernel_size=(3, 3), stride=(1, 1), padding=(1, 1), bias=False)\n",
      "      (bn2): BatchNorm2d(64, eps=1e-05, momentum=0.1, affine=True, track_running_stats=True)\n",
      "      (conv3): Conv2d(64, 256, kernel_size=(1, 1), stride=(1, 1), bias=False)\n",
      "      (bn3): BatchNorm2d(256, eps=1e-05, momentum=0.1, affine=True, track_running_stats=True)\n",
      "      (relu): ReLU(inplace=True)\n",
      "    )\n",
      "  )\n",
      "  (layer2): Sequential(\n",
      "    (0): Bottleneck(\n",
      "      (conv1): Conv2d(256, 128, kernel_size=(1, 1), stride=(1, 1), bias=False)\n",
      "      (bn1): BatchNorm2d(128, eps=1e-05, momentum=0.1, affine=True, track_running_stats=True)\n",
      "      (conv2): Conv2d(128, 128, kernel_size=(3, 3), stride=(2, 2), padding=(1, 1), bias=False)\n",
      "      (bn2): BatchNorm2d(128, eps=1e-05, momentum=0.1, affine=True, track_running_stats=True)\n",
      "      (conv3): Conv2d(128, 512, kernel_size=(1, 1), stride=(1, 1), bias=False)\n",
      "      (bn3): BatchNorm2d(512, eps=1e-05, momentum=0.1, affine=True, track_running_stats=True)\n",
      "      (relu): ReLU(inplace=True)\n",
      "      (downsample): Sequential(\n",
      "        (0): Conv2d(256, 512, kernel_size=(1, 1), stride=(2, 2), bias=False)\n",
      "        (1): BatchNorm2d(512, eps=1e-05, momentum=0.1, affine=True, track_running_stats=True)\n",
      "      )\n",
      "    )\n",
      "    (1): Bottleneck(\n",
      "      (conv1): Conv2d(512, 128, kernel_size=(1, 1), stride=(1, 1), bias=False)\n",
      "      (bn1): BatchNorm2d(128, eps=1e-05, momentum=0.1, affine=True, track_running_stats=True)\n",
      "      (conv2): Conv2d(128, 128, kernel_size=(3, 3), stride=(1, 1), padding=(1, 1), bias=False)\n",
      "      (bn2): BatchNorm2d(128, eps=1e-05, momentum=0.1, affine=True, track_running_stats=True)\n",
      "      (conv3): Conv2d(128, 512, kernel_size=(1, 1), stride=(1, 1), bias=False)\n",
      "      (bn3): BatchNorm2d(512, eps=1e-05, momentum=0.1, affine=True, track_running_stats=True)\n",
      "      (relu): ReLU(inplace=True)\n",
      "    )\n",
      "    (2): Bottleneck(\n",
      "      (conv1): Conv2d(512, 128, kernel_size=(1, 1), stride=(1, 1), bias=False)\n",
      "      (bn1): BatchNorm2d(128, eps=1e-05, momentum=0.1, affine=True, track_running_stats=True)\n",
      "      (conv2): Conv2d(128, 128, kernel_size=(3, 3), stride=(1, 1), padding=(1, 1), bias=False)\n",
      "      (bn2): BatchNorm2d(128, eps=1e-05, momentum=0.1, affine=True, track_running_stats=True)\n",
      "      (conv3): Conv2d(128, 512, kernel_size=(1, 1), stride=(1, 1), bias=False)\n",
      "      (bn3): BatchNorm2d(512, eps=1e-05, momentum=0.1, affine=True, track_running_stats=True)\n",
      "      (relu): ReLU(inplace=True)\n",
      "    )\n",
      "    (3): Bottleneck(\n",
      "      (conv1): Conv2d(512, 128, kernel_size=(1, 1), stride=(1, 1), bias=False)\n",
      "      (bn1): BatchNorm2d(128, eps=1e-05, momentum=0.1, affine=True, track_running_stats=True)\n",
      "      (conv2): Conv2d(128, 128, kernel_size=(3, 3), stride=(1, 1), padding=(1, 1), bias=False)\n",
      "      (bn2): BatchNorm2d(128, eps=1e-05, momentum=0.1, affine=True, track_running_stats=True)\n",
      "      (conv3): Conv2d(128, 512, kernel_size=(1, 1), stride=(1, 1), bias=False)\n",
      "      (bn3): BatchNorm2d(512, eps=1e-05, momentum=0.1, affine=True, track_running_stats=True)\n",
      "      (relu): ReLU(inplace=True)\n",
      "    )\n",
      "  )\n",
      "  (layer3): Sequential(\n",
      "    (0): Bottleneck(\n",
      "      (conv1): Conv2d(512, 256, kernel_size=(1, 1), stride=(1, 1), bias=False)\n",
      "      (bn1): BatchNorm2d(256, eps=1e-05, momentum=0.1, affine=True, track_running_stats=True)\n",
      "      (conv2): Conv2d(256, 256, kernel_size=(3, 3), stride=(2, 2), padding=(1, 1), bias=False)\n",
      "      (bn2): BatchNorm2d(256, eps=1e-05, momentum=0.1, affine=True, track_running_stats=True)\n",
      "      (conv3): Conv2d(256, 1024, kernel_size=(1, 1), stride=(1, 1), bias=False)\n",
      "      (bn3): BatchNorm2d(1024, eps=1e-05, momentum=0.1, affine=True, track_running_stats=True)\n",
      "      (relu): ReLU(inplace=True)\n",
      "      (downsample): Sequential(\n",
      "        (0): Conv2d(512, 1024, kernel_size=(1, 1), stride=(2, 2), bias=False)\n",
      "        (1): BatchNorm2d(1024, eps=1e-05, momentum=0.1, affine=True, track_running_stats=True)\n",
      "      )\n",
      "    )\n",
      "    (1): Bottleneck(\n",
      "      (conv1): Conv2d(1024, 256, kernel_size=(1, 1), stride=(1, 1), bias=False)\n",
      "      (bn1): BatchNorm2d(256, eps=1e-05, momentum=0.1, affine=True, track_running_stats=True)\n",
      "      (conv2): Conv2d(256, 256, kernel_size=(3, 3), stride=(1, 1), padding=(1, 1), bias=False)\n",
      "      (bn2): BatchNorm2d(256, eps=1e-05, momentum=0.1, affine=True, track_running_stats=True)\n",
      "      (conv3): Conv2d(256, 1024, kernel_size=(1, 1), stride=(1, 1), bias=False)\n",
      "      (bn3): BatchNorm2d(1024, eps=1e-05, momentum=0.1, affine=True, track_running_stats=True)\n",
      "      (relu): ReLU(inplace=True)\n",
      "    )\n",
      "    (2): Bottleneck(\n",
      "      (conv1): Conv2d(1024, 256, kernel_size=(1, 1), stride=(1, 1), bias=False)\n",
      "      (bn1): BatchNorm2d(256, eps=1e-05, momentum=0.1, affine=True, track_running_stats=True)\n",
      "      (conv2): Conv2d(256, 256, kernel_size=(3, 3), stride=(1, 1), padding=(1, 1), bias=False)\n",
      "      (bn2): BatchNorm2d(256, eps=1e-05, momentum=0.1, affine=True, track_running_stats=True)\n",
      "      (conv3): Conv2d(256, 1024, kernel_size=(1, 1), stride=(1, 1), bias=False)\n",
      "      (bn3): BatchNorm2d(1024, eps=1e-05, momentum=0.1, affine=True, track_running_stats=True)\n",
      "      (relu): ReLU(inplace=True)\n",
      "    )\n",
      "    (3): Bottleneck(\n",
      "      (conv1): Conv2d(1024, 256, kernel_size=(1, 1), stride=(1, 1), bias=False)\n",
      "      (bn1): BatchNorm2d(256, eps=1e-05, momentum=0.1, affine=True, track_running_stats=True)\n",
      "      (conv2): Conv2d(256, 256, kernel_size=(3, 3), stride=(1, 1), padding=(1, 1), bias=False)\n",
      "      (bn2): BatchNorm2d(256, eps=1e-05, momentum=0.1, affine=True, track_running_stats=True)\n",
      "      (conv3): Conv2d(256, 1024, kernel_size=(1, 1), stride=(1, 1), bias=False)\n",
      "      (bn3): BatchNorm2d(1024, eps=1e-05, momentum=0.1, affine=True, track_running_stats=True)\n",
      "      (relu): ReLU(inplace=True)\n",
      "    )\n",
      "    (4): Bottleneck(\n",
      "      (conv1): Conv2d(1024, 256, kernel_size=(1, 1), stride=(1, 1), bias=False)\n",
      "      (bn1): BatchNorm2d(256, eps=1e-05, momentum=0.1, affine=True, track_running_stats=True)\n",
      "      (conv2): Conv2d(256, 256, kernel_size=(3, 3), stride=(1, 1), padding=(1, 1), bias=False)\n",
      "      (bn2): BatchNorm2d(256, eps=1e-05, momentum=0.1, affine=True, track_running_stats=True)\n",
      "      (conv3): Conv2d(256, 1024, kernel_size=(1, 1), stride=(1, 1), bias=False)\n",
      "      (bn3): BatchNorm2d(1024, eps=1e-05, momentum=0.1, affine=True, track_running_stats=True)\n",
      "      (relu): ReLU(inplace=True)\n",
      "    )\n",
      "    (5): Bottleneck(\n",
      "      (conv1): Conv2d(1024, 256, kernel_size=(1, 1), stride=(1, 1), bias=False)\n",
      "      (bn1): BatchNorm2d(256, eps=1e-05, momentum=0.1, affine=True, track_running_stats=True)\n",
      "      (conv2): Conv2d(256, 256, kernel_size=(3, 3), stride=(1, 1), padding=(1, 1), bias=False)\n",
      "      (bn2): BatchNorm2d(256, eps=1e-05, momentum=0.1, affine=True, track_running_stats=True)\n",
      "      (conv3): Conv2d(256, 1024, kernel_size=(1, 1), stride=(1, 1), bias=False)\n",
      "      (bn3): BatchNorm2d(1024, eps=1e-05, momentum=0.1, affine=True, track_running_stats=True)\n",
      "      (relu): ReLU(inplace=True)\n",
      "    )\n",
      "  )\n",
      "  (layer4): Sequential(\n",
      "    (0): Bottleneck(\n",
      "      (conv1): Conv2d(1024, 512, kernel_size=(1, 1), stride=(1, 1), bias=False)\n",
      "      (bn1): BatchNorm2d(512, eps=1e-05, momentum=0.1, affine=True, track_running_stats=True)\n",
      "      (conv2): Conv2d(512, 512, kernel_size=(3, 3), stride=(2, 2), padding=(1, 1), bias=False)\n",
      "      (bn2): BatchNorm2d(512, eps=1e-05, momentum=0.1, affine=True, track_running_stats=True)\n",
      "      (conv3): Conv2d(512, 2048, kernel_size=(1, 1), stride=(1, 1), bias=False)\n",
      "      (bn3): BatchNorm2d(2048, eps=1e-05, momentum=0.1, affine=True, track_running_stats=True)\n",
      "      (relu): ReLU(inplace=True)\n",
      "      (downsample): Sequential(\n",
      "        (0): Conv2d(1024, 2048, kernel_size=(1, 1), stride=(2, 2), bias=False)\n",
      "        (1): BatchNorm2d(2048, eps=1e-05, momentum=0.1, affine=True, track_running_stats=True)\n",
      "      )\n",
      "    )\n",
      "    (1): Bottleneck(\n",
      "      (conv1): Conv2d(2048, 512, kernel_size=(1, 1), stride=(1, 1), bias=False)\n",
      "      (bn1): BatchNorm2d(512, eps=1e-05, momentum=0.1, affine=True, track_running_stats=True)\n",
      "      (conv2): Conv2d(512, 512, kernel_size=(3, 3), stride=(1, 1), padding=(1, 1), bias=False)\n",
      "      (bn2): BatchNorm2d(512, eps=1e-05, momentum=0.1, affine=True, track_running_stats=True)\n",
      "      (conv3): Conv2d(512, 2048, kernel_size=(1, 1), stride=(1, 1), bias=False)\n",
      "      (bn3): BatchNorm2d(2048, eps=1e-05, momentum=0.1, affine=True, track_running_stats=True)\n",
      "      (relu): ReLU(inplace=True)\n",
      "    )\n",
      "    (2): Bottleneck(\n",
      "      (conv1): Conv2d(2048, 512, kernel_size=(1, 1), stride=(1, 1), bias=False)\n",
      "      (bn1): BatchNorm2d(512, eps=1e-05, momentum=0.1, affine=True, track_running_stats=True)\n",
      "      (conv2): Conv2d(512, 512, kernel_size=(3, 3), stride=(1, 1), padding=(1, 1), bias=False)\n",
      "      (bn2): BatchNorm2d(512, eps=1e-05, momentum=0.1, affine=True, track_running_stats=True)\n",
      "      (conv3): Conv2d(512, 2048, kernel_size=(1, 1), stride=(1, 1), bias=False)\n",
      "      (bn3): BatchNorm2d(2048, eps=1e-05, momentum=0.1, affine=True, track_running_stats=True)\n",
      "      (relu): ReLU(inplace=True)\n",
      "    )\n",
      "  )\n",
      "  (avgpool): AdaptiveAvgPool2d(output_size=(1, 1))\n",
      "  (fc): Linear(in_features=2048, out_features=1000, bias=True)\n",
      ")\n"
     ]
    }
   ],
   "source": [
    "import torchvision.models as models\n",
    "import torch.nn as nn\n",
    "\n",
    "#model = models.inception_v3(pretrained=True)\n",
    "model = models.resnet50(pretrained=True)\n",
    "#model = models.densenet121(pretrained=True)\n",
    "#model = models.vgg16(pretrained=True)\n",
    "\n",
    "print(model)"
   ]
  },
  {
   "cell_type": "markdown",
   "id": "1323abab",
   "metadata": {
    "id": "1323abab"
   },
   "source": [
    "### 2.2 Transfer Learning: Classiffier"
   ]
  },
  {
   "cell_type": "code",
   "execution_count": 10,
   "id": "9e455c40",
   "metadata": {
    "colab": {
     "base_uri": "https://localhost:8080/"
    },
    "id": "9e455c40",
    "outputId": "91a034f5-a074-4f31-d601-25df9be15e53"
   },
   "outputs": [
    {
     "name": "stdout",
     "output_type": "stream",
     "text": [
      "True\n"
     ]
    }
   ],
   "source": [
    "# Check if CUDA is available\n",
    "use_cuda = torch.cuda.is_available()\n",
    "print(use_cuda)"
   ]
  },
  {
   "cell_type": "code",
   "execution_count": 11,
   "id": "266a386d",
   "metadata": {
    "colab": {
     "base_uri": "https://localhost:8080/"
    },
    "id": "266a386d",
    "outputId": "ca94d68b-9fdd-4132-bcf4-8d7758cb7044"
   },
   "outputs": [
    {
     "name": "stdout",
     "output_type": "stream",
     "text": [
      "ResNet(\n",
      "  (conv1): Conv2d(3, 64, kernel_size=(7, 7), stride=(2, 2), padding=(3, 3), bias=False)\n",
      "  (bn1): BatchNorm2d(64, eps=1e-05, momentum=0.1, affine=True, track_running_stats=True)\n",
      "  (relu): ReLU(inplace=True)\n",
      "  (maxpool): MaxPool2d(kernel_size=3, stride=2, padding=1, dilation=1, ceil_mode=False)\n",
      "  (layer1): Sequential(\n",
      "    (0): Bottleneck(\n",
      "      (conv1): Conv2d(64, 64, kernel_size=(1, 1), stride=(1, 1), bias=False)\n",
      "      (bn1): BatchNorm2d(64, eps=1e-05, momentum=0.1, affine=True, track_running_stats=True)\n",
      "      (conv2): Conv2d(64, 64, kernel_size=(3, 3), stride=(1, 1), padding=(1, 1), bias=False)\n",
      "      (bn2): BatchNorm2d(64, eps=1e-05, momentum=0.1, affine=True, track_running_stats=True)\n",
      "      (conv3): Conv2d(64, 256, kernel_size=(1, 1), stride=(1, 1), bias=False)\n",
      "      (bn3): BatchNorm2d(256, eps=1e-05, momentum=0.1, affine=True, track_running_stats=True)\n",
      "      (relu): ReLU(inplace=True)\n",
      "      (downsample): Sequential(\n",
      "        (0): Conv2d(64, 256, kernel_size=(1, 1), stride=(1, 1), bias=False)\n",
      "        (1): BatchNorm2d(256, eps=1e-05, momentum=0.1, affine=True, track_running_stats=True)\n",
      "      )\n",
      "    )\n",
      "    (1): Bottleneck(\n",
      "      (conv1): Conv2d(256, 64, kernel_size=(1, 1), stride=(1, 1), bias=False)\n",
      "      (bn1): BatchNorm2d(64, eps=1e-05, momentum=0.1, affine=True, track_running_stats=True)\n",
      "      (conv2): Conv2d(64, 64, kernel_size=(3, 3), stride=(1, 1), padding=(1, 1), bias=False)\n",
      "      (bn2): BatchNorm2d(64, eps=1e-05, momentum=0.1, affine=True, track_running_stats=True)\n",
      "      (conv3): Conv2d(64, 256, kernel_size=(1, 1), stride=(1, 1), bias=False)\n",
      "      (bn3): BatchNorm2d(256, eps=1e-05, momentum=0.1, affine=True, track_running_stats=True)\n",
      "      (relu): ReLU(inplace=True)\n",
      "    )\n",
      "    (2): Bottleneck(\n",
      "      (conv1): Conv2d(256, 64, kernel_size=(1, 1), stride=(1, 1), bias=False)\n",
      "      (bn1): BatchNorm2d(64, eps=1e-05, momentum=0.1, affine=True, track_running_stats=True)\n",
      "      (conv2): Conv2d(64, 64, kernel_size=(3, 3), stride=(1, 1), padding=(1, 1), bias=False)\n",
      "      (bn2): BatchNorm2d(64, eps=1e-05, momentum=0.1, affine=True, track_running_stats=True)\n",
      "      (conv3): Conv2d(64, 256, kernel_size=(1, 1), stride=(1, 1), bias=False)\n",
      "      (bn3): BatchNorm2d(256, eps=1e-05, momentum=0.1, affine=True, track_running_stats=True)\n",
      "      (relu): ReLU(inplace=True)\n",
      "    )\n",
      "  )\n",
      "  (layer2): Sequential(\n",
      "    (0): Bottleneck(\n",
      "      (conv1): Conv2d(256, 128, kernel_size=(1, 1), stride=(1, 1), bias=False)\n",
      "      (bn1): BatchNorm2d(128, eps=1e-05, momentum=0.1, affine=True, track_running_stats=True)\n",
      "      (conv2): Conv2d(128, 128, kernel_size=(3, 3), stride=(2, 2), padding=(1, 1), bias=False)\n",
      "      (bn2): BatchNorm2d(128, eps=1e-05, momentum=0.1, affine=True, track_running_stats=True)\n",
      "      (conv3): Conv2d(128, 512, kernel_size=(1, 1), stride=(1, 1), bias=False)\n",
      "      (bn3): BatchNorm2d(512, eps=1e-05, momentum=0.1, affine=True, track_running_stats=True)\n",
      "      (relu): ReLU(inplace=True)\n",
      "      (downsample): Sequential(\n",
      "        (0): Conv2d(256, 512, kernel_size=(1, 1), stride=(2, 2), bias=False)\n",
      "        (1): BatchNorm2d(512, eps=1e-05, momentum=0.1, affine=True, track_running_stats=True)\n",
      "      )\n",
      "    )\n",
      "    (1): Bottleneck(\n",
      "      (conv1): Conv2d(512, 128, kernel_size=(1, 1), stride=(1, 1), bias=False)\n",
      "      (bn1): BatchNorm2d(128, eps=1e-05, momentum=0.1, affine=True, track_running_stats=True)\n",
      "      (conv2): Conv2d(128, 128, kernel_size=(3, 3), stride=(1, 1), padding=(1, 1), bias=False)\n",
      "      (bn2): BatchNorm2d(128, eps=1e-05, momentum=0.1, affine=True, track_running_stats=True)\n",
      "      (conv3): Conv2d(128, 512, kernel_size=(1, 1), stride=(1, 1), bias=False)\n",
      "      (bn3): BatchNorm2d(512, eps=1e-05, momentum=0.1, affine=True, track_running_stats=True)\n",
      "      (relu): ReLU(inplace=True)\n",
      "    )\n",
      "    (2): Bottleneck(\n",
      "      (conv1): Conv2d(512, 128, kernel_size=(1, 1), stride=(1, 1), bias=False)\n",
      "      (bn1): BatchNorm2d(128, eps=1e-05, momentum=0.1, affine=True, track_running_stats=True)\n",
      "      (conv2): Conv2d(128, 128, kernel_size=(3, 3), stride=(1, 1), padding=(1, 1), bias=False)\n",
      "      (bn2): BatchNorm2d(128, eps=1e-05, momentum=0.1, affine=True, track_running_stats=True)\n",
      "      (conv3): Conv2d(128, 512, kernel_size=(1, 1), stride=(1, 1), bias=False)\n",
      "      (bn3): BatchNorm2d(512, eps=1e-05, momentum=0.1, affine=True, track_running_stats=True)\n",
      "      (relu): ReLU(inplace=True)\n",
      "    )\n",
      "    (3): Bottleneck(\n",
      "      (conv1): Conv2d(512, 128, kernel_size=(1, 1), stride=(1, 1), bias=False)\n",
      "      (bn1): BatchNorm2d(128, eps=1e-05, momentum=0.1, affine=True, track_running_stats=True)\n",
      "      (conv2): Conv2d(128, 128, kernel_size=(3, 3), stride=(1, 1), padding=(1, 1), bias=False)\n",
      "      (bn2): BatchNorm2d(128, eps=1e-05, momentum=0.1, affine=True, track_running_stats=True)\n",
      "      (conv3): Conv2d(128, 512, kernel_size=(1, 1), stride=(1, 1), bias=False)\n",
      "      (bn3): BatchNorm2d(512, eps=1e-05, momentum=0.1, affine=True, track_running_stats=True)\n",
      "      (relu): ReLU(inplace=True)\n",
      "    )\n",
      "  )\n",
      "  (layer3): Sequential(\n",
      "    (0): Bottleneck(\n",
      "      (conv1): Conv2d(512, 256, kernel_size=(1, 1), stride=(1, 1), bias=False)\n",
      "      (bn1): BatchNorm2d(256, eps=1e-05, momentum=0.1, affine=True, track_running_stats=True)\n",
      "      (conv2): Conv2d(256, 256, kernel_size=(3, 3), stride=(2, 2), padding=(1, 1), bias=False)\n",
      "      (bn2): BatchNorm2d(256, eps=1e-05, momentum=0.1, affine=True, track_running_stats=True)\n",
      "      (conv3): Conv2d(256, 1024, kernel_size=(1, 1), stride=(1, 1), bias=False)\n",
      "      (bn3): BatchNorm2d(1024, eps=1e-05, momentum=0.1, affine=True, track_running_stats=True)\n",
      "      (relu): ReLU(inplace=True)\n",
      "      (downsample): Sequential(\n",
      "        (0): Conv2d(512, 1024, kernel_size=(1, 1), stride=(2, 2), bias=False)\n",
      "        (1): BatchNorm2d(1024, eps=1e-05, momentum=0.1, affine=True, track_running_stats=True)\n",
      "      )\n",
      "    )\n",
      "    (1): Bottleneck(\n",
      "      (conv1): Conv2d(1024, 256, kernel_size=(1, 1), stride=(1, 1), bias=False)\n",
      "      (bn1): BatchNorm2d(256, eps=1e-05, momentum=0.1, affine=True, track_running_stats=True)\n",
      "      (conv2): Conv2d(256, 256, kernel_size=(3, 3), stride=(1, 1), padding=(1, 1), bias=False)\n",
      "      (bn2): BatchNorm2d(256, eps=1e-05, momentum=0.1, affine=True, track_running_stats=True)\n",
      "      (conv3): Conv2d(256, 1024, kernel_size=(1, 1), stride=(1, 1), bias=False)\n",
      "      (bn3): BatchNorm2d(1024, eps=1e-05, momentum=0.1, affine=True, track_running_stats=True)\n",
      "      (relu): ReLU(inplace=True)\n",
      "    )\n",
      "    (2): Bottleneck(\n",
      "      (conv1): Conv2d(1024, 256, kernel_size=(1, 1), stride=(1, 1), bias=False)\n",
      "      (bn1): BatchNorm2d(256, eps=1e-05, momentum=0.1, affine=True, track_running_stats=True)\n",
      "      (conv2): Conv2d(256, 256, kernel_size=(3, 3), stride=(1, 1), padding=(1, 1), bias=False)\n",
      "      (bn2): BatchNorm2d(256, eps=1e-05, momentum=0.1, affine=True, track_running_stats=True)\n",
      "      (conv3): Conv2d(256, 1024, kernel_size=(1, 1), stride=(1, 1), bias=False)\n",
      "      (bn3): BatchNorm2d(1024, eps=1e-05, momentum=0.1, affine=True, track_running_stats=True)\n",
      "      (relu): ReLU(inplace=True)\n",
      "    )\n",
      "    (3): Bottleneck(\n",
      "      (conv1): Conv2d(1024, 256, kernel_size=(1, 1), stride=(1, 1), bias=False)\n",
      "      (bn1): BatchNorm2d(256, eps=1e-05, momentum=0.1, affine=True, track_running_stats=True)\n",
      "      (conv2): Conv2d(256, 256, kernel_size=(3, 3), stride=(1, 1), padding=(1, 1), bias=False)\n",
      "      (bn2): BatchNorm2d(256, eps=1e-05, momentum=0.1, affine=True, track_running_stats=True)\n",
      "      (conv3): Conv2d(256, 1024, kernel_size=(1, 1), stride=(1, 1), bias=False)\n",
      "      (bn3): BatchNorm2d(1024, eps=1e-05, momentum=0.1, affine=True, track_running_stats=True)\n",
      "      (relu): ReLU(inplace=True)\n",
      "    )\n",
      "    (4): Bottleneck(\n",
      "      (conv1): Conv2d(1024, 256, kernel_size=(1, 1), stride=(1, 1), bias=False)\n",
      "      (bn1): BatchNorm2d(256, eps=1e-05, momentum=0.1, affine=True, track_running_stats=True)\n",
      "      (conv2): Conv2d(256, 256, kernel_size=(3, 3), stride=(1, 1), padding=(1, 1), bias=False)\n",
      "      (bn2): BatchNorm2d(256, eps=1e-05, momentum=0.1, affine=True, track_running_stats=True)\n",
      "      (conv3): Conv2d(256, 1024, kernel_size=(1, 1), stride=(1, 1), bias=False)\n",
      "      (bn3): BatchNorm2d(1024, eps=1e-05, momentum=0.1, affine=True, track_running_stats=True)\n",
      "      (relu): ReLU(inplace=True)\n",
      "    )\n",
      "    (5): Bottleneck(\n",
      "      (conv1): Conv2d(1024, 256, kernel_size=(1, 1), stride=(1, 1), bias=False)\n",
      "      (bn1): BatchNorm2d(256, eps=1e-05, momentum=0.1, affine=True, track_running_stats=True)\n",
      "      (conv2): Conv2d(256, 256, kernel_size=(3, 3), stride=(1, 1), padding=(1, 1), bias=False)\n",
      "      (bn2): BatchNorm2d(256, eps=1e-05, momentum=0.1, affine=True, track_running_stats=True)\n",
      "      (conv3): Conv2d(256, 1024, kernel_size=(1, 1), stride=(1, 1), bias=False)\n",
      "      (bn3): BatchNorm2d(1024, eps=1e-05, momentum=0.1, affine=True, track_running_stats=True)\n",
      "      (relu): ReLU(inplace=True)\n",
      "    )\n",
      "  )\n",
      "  (layer4): Sequential(\n",
      "    (0): Bottleneck(\n",
      "      (conv1): Conv2d(1024, 512, kernel_size=(1, 1), stride=(1, 1), bias=False)\n",
      "      (bn1): BatchNorm2d(512, eps=1e-05, momentum=0.1, affine=True, track_running_stats=True)\n",
      "      (conv2): Conv2d(512, 512, kernel_size=(3, 3), stride=(2, 2), padding=(1, 1), bias=False)\n",
      "      (bn2): BatchNorm2d(512, eps=1e-05, momentum=0.1, affine=True, track_running_stats=True)\n",
      "      (conv3): Conv2d(512, 2048, kernel_size=(1, 1), stride=(1, 1), bias=False)\n",
      "      (bn3): BatchNorm2d(2048, eps=1e-05, momentum=0.1, affine=True, track_running_stats=True)\n",
      "      (relu): ReLU(inplace=True)\n",
      "      (downsample): Sequential(\n",
      "        (0): Conv2d(1024, 2048, kernel_size=(1, 1), stride=(2, 2), bias=False)\n",
      "        (1): BatchNorm2d(2048, eps=1e-05, momentum=0.1, affine=True, track_running_stats=True)\n",
      "      )\n",
      "    )\n",
      "    (1): Bottleneck(\n",
      "      (conv1): Conv2d(2048, 512, kernel_size=(1, 1), stride=(1, 1), bias=False)\n",
      "      (bn1): BatchNorm2d(512, eps=1e-05, momentum=0.1, affine=True, track_running_stats=True)\n",
      "      (conv2): Conv2d(512, 512, kernel_size=(3, 3), stride=(1, 1), padding=(1, 1), bias=False)\n",
      "      (bn2): BatchNorm2d(512, eps=1e-05, momentum=0.1, affine=True, track_running_stats=True)\n",
      "      (conv3): Conv2d(512, 2048, kernel_size=(1, 1), stride=(1, 1), bias=False)\n",
      "      (bn3): BatchNorm2d(2048, eps=1e-05, momentum=0.1, affine=True, track_running_stats=True)\n",
      "      (relu): ReLU(inplace=True)\n",
      "    )\n",
      "    (2): Bottleneck(\n",
      "      (conv1): Conv2d(2048, 512, kernel_size=(1, 1), stride=(1, 1), bias=False)\n",
      "      (bn1): BatchNorm2d(512, eps=1e-05, momentum=0.1, affine=True, track_running_stats=True)\n",
      "      (conv2): Conv2d(512, 512, kernel_size=(3, 3), stride=(1, 1), padding=(1, 1), bias=False)\n",
      "      (bn2): BatchNorm2d(512, eps=1e-05, momentum=0.1, affine=True, track_running_stats=True)\n",
      "      (conv3): Conv2d(512, 2048, kernel_size=(1, 1), stride=(1, 1), bias=False)\n",
      "      (bn3): BatchNorm2d(2048, eps=1e-05, momentum=0.1, affine=True, track_running_stats=True)\n",
      "      (relu): ReLU(inplace=True)\n",
      "    )\n",
      "  )\n",
      "  (avgpool): AdaptiveAvgPool2d(output_size=(1, 1))\n",
      "  (fc): Sequential(\n",
      "    (fc1): Linear(in_features=2048, out_features=512, bias=True)\n",
      "    (relu1): ReLU()\n",
      "    (drop1): Dropout(p=0.5, inplace=False)\n",
      "    (fc2): Linear(in_features=512, out_features=128, bias=True)\n",
      "    (relu2): ReLU()\n",
      "    (drop2): Dropout(p=0.5, inplace=False)\n",
      "    (fc3): Linear(in_features=128, out_features=3, bias=True)\n",
      "    (output): LogSoftmax(dim=1)\n",
      "  )\n",
      ")\n"
     ]
    }
   ],
   "source": [
    "# Freeze parameters of the pre-trained network\n",
    "# so we don't backprop through them\n",
    "# ... OR preform fine-tuning of the backbone\n",
    "for param in model.parameters():\n",
    "    #param.requires_grad = False # Backbone frozen\n",
    "    param.requires_grad = True # Fine-tune backbone\n",
    "\n",
    "# Define our own last classifier layers\n",
    "# Our inputs must match with the ones\n",
    "# in the pre-trained network (in_features)\n",
    "# and REPLACE the model.fc\n",
    "from collections import OrderedDict\n",
    "drop_p=0.5\n",
    "num_classes=3\n",
    "hidden_nodes_1 = 512 # 500, 256\n",
    "hidden_nodes_2 = 128\n",
    "model.fc = nn.Sequential(OrderedDict([\n",
    "                          ('fc1', nn.Linear(2048, hidden_nodes_1)),\n",
    "                          ('relu1', nn.ReLU()),\n",
    "                          ('drop1', nn.Dropout(drop_p)),\n",
    "                          ('fc2', nn.Linear(hidden_nodes_1, hidden_nodes_2)),\n",
    "                          ('relu2', nn.ReLU()),\n",
    "                          ('drop2', nn.Dropout(drop_p)),\n",
    "                          ('fc3', nn.Linear(hidden_nodes_2, num_classes)),\n",
    "                          ('output', nn.LogSoftmax(dim=1))\n",
    "                          ]))\n",
    "\n",
    "# This should not be necessary\n",
    "for param in model.fc.parameters():\n",
    "    param.requires_grad = True\n",
    "\n",
    "if use_cuda:\n",
    "    model = model.cuda()\n",
    "    \n",
    "print(model)"
   ]
  },
  {
   "cell_type": "code",
   "execution_count": 12,
   "id": "3f5953e1",
   "metadata": {
    "id": "3f5953e1"
   },
   "outputs": [],
   "source": [
    "# Custom function for weight initialization\n",
    "# with the Xavier Glorot convention using the normal distribution: \n",
    "# Normal(mean=0, std=n), with n = 1 / sqrt(in_nodes)\n",
    "def initialize_weights(m):\n",
    "    if isinstance(m, nn.Conv2d):\n",
    "        #nn.init.kaiming_uniform_(m.weight.data,nonlinearity='relu')\n",
    "        #nn.init.xavier_uniform_(m.weight.data, gain=nn.init.calculate_gain('relu'))\n",
    "        nn.init.xavier_normal_(m.weight.data, gain=nn.init.calculate_gain('relu'))\n",
    "        if m.bias is not None:\n",
    "            nn.init.constant_(m.bias.data, 0)\n",
    "    elif isinstance(m, nn.BatchNorm2d):\n",
    "        nn.init.constant_(m.weight.data, 1)\n",
    "        nn.init.constant_(m.bias.data, 0)\n",
    "    elif isinstance(m, nn.Linear):\n",
    "        #nn.init.kaiming_uniform_(m.weight.data)\n",
    "        #nn.init.xavier_uniform_(m.weight.data, gain=1.0)\n",
    "        nn.init.xavier_normal_(m.weight.data, gain=1.0)\n",
    "        nn.init.constant_(m.bias.data, 0)\n",
    "    \n",
    "    return m\n",
    "\n",
    "# Function that computes the number of trained parameters\n",
    "# The larger the number, the longer training time\n",
    "def get_num_parameters(net):\n",
    "    model_parameters = filter(lambda p: p.requires_grad, net.parameters())\n",
    "    params = sum([np.prod(p.size()) for p in model_parameters])\n",
    "    return params"
   ]
  },
  {
   "cell_type": "code",
   "execution_count": 13,
   "id": "a4ebe6eb",
   "metadata": {
    "colab": {
     "base_uri": "https://localhost:8080/"
    },
    "id": "a4ebe6eb",
    "outputId": "8af4984e-c1fd-4403-9f59-1de7460427c1"
   },
   "outputs": [
    {
     "name": "stdout",
     "output_type": "stream",
     "text": [
      "Number of model parameters to be trained: 24623171\n"
     ]
    }
   ],
   "source": [
    "num_parameters = get_num_parameters(model)\n",
    "print(f'Number of model parameters to be trained: {num_parameters}')"
   ]
  },
  {
   "cell_type": "markdown",
   "id": "63a5f8ee",
   "metadata": {
    "id": "63a5f8ee"
   },
   "source": [
    "### 2.3 Save and Load Functions"
   ]
  },
  {
   "cell_type": "code",
   "execution_count": 14,
   "id": "be9d6a22",
   "metadata": {
    "id": "be9d6a22"
   },
   "outputs": [],
   "source": [
    "# Custom save & load functions\n",
    "def save_model(filepath, model):\n",
    "    torch.save(model.state_dict(), filepath)\n",
    "\n",
    "def load_checkpoint(filepath, model):\n",
    "    dev = 'cpu'\n",
    "    #checkpoint = torch.load(filepath, map_location=torch.device(dev))\n",
    "    checkpoint = torch.load(filepath, map_location=dev)\n",
    "    model.load_state_dict(checkpoint)\n",
    "    return model"
   ]
  },
  {
   "cell_type": "code",
   "execution_count": 15,
   "id": "a81cecb9",
   "metadata": {
    "id": "a81cecb9"
   },
   "outputs": [],
   "source": [
    "filepath = './models/model_0.pt'\n",
    "save_model(filepath, model)\n",
    "model = load_checkpoint(filepath, model)"
   ]
  },
  {
   "cell_type": "markdown",
   "id": "8e35eb00",
   "metadata": {
    "id": "8e35eb00"
   },
   "source": [
    "### 2.4 Prediction Function"
   ]
  },
  {
   "cell_type": "code",
   "execution_count": 16,
   "id": "358fe123",
   "metadata": {
    "id": "358fe123"
   },
   "outputs": [],
   "source": [
    "def predict(img_path, model, use_cuda):\n",
    "    '''\n",
    "    Use model to infer skin lesion class given an image\n",
    "    \n",
    "    Args:\n",
    "        img_path: path to an image\n",
    "        \n",
    "    Returns:\n",
    "        Class id\n",
    "    '''\n",
    "\n",
    "    # Note: transforms takes PIL formatted images, not numpy arrays\n",
    "    img = Image.open(img_path) \n",
    "    \n",
    "    # ImageNet dataset requires a specific mean & std normalization\n",
    "    data_transforms = transforms.Compose([\n",
    "        transforms.Resize(230),\n",
    "        transforms.CenterCrop(size=224),\n",
    "        transforms.ToTensor(),\n",
    "        transforms.Normalize([0.485, 0.456, 0.406], [0.229, 0.224, 0.225])\n",
    "        ])\n",
    "\n",
    "    # Apply data data transformations and add a dimension for batches\n",
    "    img_batch = data_transforms(img).unsqueeze(0)\n",
    "\n",
    "    if use_cuda:\n",
    "        model = model.cuda()\n",
    "        img_batch = img_batch.to(\"cuda\", dtype=torch.float)\n",
    "    \n",
    "    # Set in evaluation mode! (De-activate dropout, etc.)\n",
    "    model.eval()\n",
    "    \n",
    "    # Predict. Apply softmax to convert logits\n",
    "    with torch.no_grad():\n",
    "        # Prediction\n",
    "        logps = model(img_batch).squeeze(0)\n",
    "        prediction = torch.exp(logps)\n",
    "        prediction = prediction.cpu()\n",
    "\n",
    "    # Class id: index of maximum probability\n",
    "    class_id = prediction.argmax().item()\n",
    "    \n",
    "    return class_id"
   ]
  },
  {
   "cell_type": "code",
   "execution_count": 17,
   "id": "3d4e33d7",
   "metadata": {
    "colab": {
     "base_uri": "https://localhost:8080/"
    },
    "id": "3d4e33d7",
    "outputId": "2c4d6317-38ba-4539-a3f2-00d970928ab8"
   },
   "outputs": [
    {
     "name": "stdout",
     "output_type": "stream",
     "text": [
      "./data/train/melanoma/ISIC_0011349.jpg\n",
      "melanoma\n"
     ]
    }
   ],
   "source": [
    "img_path = train_all[0]\n",
    "print(img_path)\n",
    "class_id = predict(img_path, model, use_cuda)\n",
    "print(class_names[class_id])"
   ]
  },
  {
   "cell_type": "markdown",
   "id": "d2976b45",
   "metadata": {
    "id": "d2976b45"
   },
   "source": [
    "### 2.5 Training"
   ]
  },
  {
   "cell_type": "code",
   "execution_count": 18,
   "id": "f43b2f54",
   "metadata": {
    "id": "f43b2f54"
   },
   "outputs": [],
   "source": [
    "import torch.optim as optim\n",
    "\n",
    "criterion = nn.NLLLoss()\n",
    "optimizer = optim.Adam(model.parameters(), lr=0.001) # 0.01, 0.003\n",
    "#optimizer = optim.SGD(model.parameters(), lr=0.001) # 0.01, 0.003"
   ]
  },
  {
   "cell_type": "code",
   "execution_count": 19,
   "id": "3982a489",
   "metadata": {
    "id": "3982a489"
   },
   "outputs": [],
   "source": [
    "import time\n",
    "\n",
    "def train(n_epochs, loaders, model, optimizer, criterion, use_cuda, save_path):\n",
    "    \"\"\"Returns trained model\"\"\"\n",
    "    valid_loss_min = np.Inf\n",
    "    loss_history = {'train': [], 'valid': []}\n",
    " \n",
    "    if use_cuda:\n",
    "        model = model.cuda()\n",
    "        \n",
    "    for epoch in range(1, n_epochs+1):\n",
    "        train_loss = 0.0\n",
    "        valid_loss = 0.0\n",
    "        num_images_train = 0\n",
    "        num_images_valid = 0\n",
    "        \n",
    "        ###################\n",
    "        # Train the model #\n",
    "        ###################\n",
    "        model.train()\n",
    "\n",
    "        t1 = time.time()\n",
    "            \n",
    "        for batch_idx, (data, target) in enumerate(loaders['train']):\n",
    "            if use_cuda:\n",
    "                data, target = data.cuda(), target.cuda()\n",
    "            \n",
    "            optimizer.zero_grad() # reset gradients\n",
    "\n",
    "            logps = model(data) # forward pass\n",
    "            loss = criterion(logps, target) # compute loss\n",
    "\n",
    "            loss.backward() # compute gradient / backpropagation\n",
    "            optimizer.step() # update weights\n",
    "            \n",
    "            train_loss = train_loss + ((1 / (batch_idx + 1)) * (loss.data - train_loss))\n",
    "            #train_loss += loss.item()\n",
    "            #num_images_train += data.size(0)\n",
    "            \n",
    "            if batch_idx%10 == 0:\n",
    "                #print(f'Epoch: {epoch}, Training Loss: {train_loss/num_images_train:.6f} ')\n",
    "                print(f'Epoch: {epoch}, Training Loss: {train_loss:.6f} ')\n",
    "            \n",
    "        ######################    \n",
    "        # Validate the model #\n",
    "        ######################\n",
    "        model.eval()\n",
    "        for batch_idx, (data, target) in enumerate(loaders['valid']):\n",
    "            if use_cuda:\n",
    "                data, target = data.cuda(), target.cuda()\n",
    "            with torch.no_grad():\n",
    "                logps = model(data) # forward pass\n",
    "                loss = criterion(logps, target) # compute loss\n",
    "                valid_loss = valid_loss + ((1 / (batch_idx + 1)) * (loss.data - valid_loss))\n",
    "                #valid_loss += loss.item()\n",
    "                #num_images_valid += data.size(0)\n",
    "        \n",
    "        #train_loss /= len(loaders['train'].dataset)\n",
    "        #valid_loss /= len(loaders['valid'].dataset)\n",
    "        #train_loss /= num_images_train\n",
    "        #valid_loss /= num_images_valid\n",
    "        loss_history['train'].append(train_loss.cpu().item())\n",
    "        loss_history['valid'].append(valid_loss.cpu().item())\n",
    "        \n",
    "        t2 = time.time()\n",
    "        duration = t2-t1\n",
    "        \n",
    "        print('-> Epoch: {} \\tTrain. Loss: {:.6f} \\tVal. Loss: {:.6f} \\tDuration: {:.2f} sec.'.format(\n",
    "            epoch, \n",
    "            train_loss,\n",
    "            valid_loss,\n",
    "            duration\n",
    "            ))\n",
    "        \n",
    "        if valid_loss < valid_loss_min:\n",
    "            save_model(save_path, model)\n",
    "    \n",
    "    # Return trained model\n",
    "    return model, loss_history\n"
   ]
  },
  {
   "cell_type": "code",
   "execution_count": 20,
   "id": "91edc3ae",
   "metadata": {
    "colab": {
     "base_uri": "https://localhost:8080/"
    },
    "id": "91edc3ae",
    "outputId": "afcc40a2-afde-4248-89f3-b9ef8a6ff9c8"
   },
   "outputs": [
    {
     "name": "stdout",
     "output_type": "stream",
     "text": [
      "Epoch: 1, Training Loss: 1.166318 \n",
      "Epoch: 1, Training Loss: 0.909545 \n",
      "Epoch: 1, Training Loss: 0.887276 \n",
      "Epoch: 1, Training Loss: 0.875219 \n",
      "-> Epoch: 1 \tTrain. Loss: 0.875916 \tVal. Loss: 2.424675 \tDuration: 444.77 sec.\n",
      "Epoch: 2, Training Loss: 0.901673 \n",
      "Epoch: 2, Training Loss: 0.814521 \n",
      "Epoch: 2, Training Loss: 0.826669 \n",
      "Epoch: 2, Training Loss: 0.827935 \n",
      "-> Epoch: 2 \tTrain. Loss: 0.829139 \tVal. Loss: 1.086322 \tDuration: 439.05 sec.\n",
      "Epoch: 3, Training Loss: 0.752490 \n",
      "Epoch: 3, Training Loss: 0.831665 \n",
      "Epoch: 3, Training Loss: 0.799662 \n",
      "Epoch: 3, Training Loss: 0.803165 \n",
      "-> Epoch: 3 \tTrain. Loss: 0.808651 \tVal. Loss: 0.955422 \tDuration: 438.16 sec.\n",
      "Epoch: 4, Training Loss: 0.760987 \n",
      "Epoch: 4, Training Loss: 0.771818 \n",
      "Epoch: 4, Training Loss: 0.791771 \n",
      "Epoch: 4, Training Loss: 0.793911 \n",
      "-> Epoch: 4 \tTrain. Loss: 0.786868 \tVal. Loss: 1.191152 \tDuration: 435.77 sec.\n",
      "Epoch: 5, Training Loss: 0.925525 \n",
      "Epoch: 5, Training Loss: 0.734611 \n",
      "Epoch: 5, Training Loss: 0.745022 \n",
      "Epoch: 5, Training Loss: 0.766053 \n",
      "-> Epoch: 5 \tTrain. Loss: 0.762656 \tVal. Loss: 0.843076 \tDuration: 431.11 sec.\n",
      "Epoch: 6, Training Loss: 0.813622 \n",
      "Epoch: 6, Training Loss: 0.751080 \n",
      "Epoch: 6, Training Loss: 0.741650 \n",
      "Epoch: 6, Training Loss: 0.743383 \n",
      "-> Epoch: 6 \tTrain. Loss: 0.749388 \tVal. Loss: 1.326025 \tDuration: 432.75 sec.\n",
      "Epoch: 7, Training Loss: 0.776528 \n",
      "Epoch: 7, Training Loss: 0.744466 \n",
      "Epoch: 7, Training Loss: 0.765767 \n",
      "Epoch: 7, Training Loss: 0.746258 \n",
      "-> Epoch: 7 \tTrain. Loss: 0.749332 \tVal. Loss: 0.921136 \tDuration: 432.29 sec.\n",
      "Epoch: 8, Training Loss: 1.094436 \n",
      "Epoch: 8, Training Loss: 0.790578 \n",
      "Epoch: 8, Training Loss: 0.757949 \n",
      "Epoch: 8, Training Loss: 0.749277 \n",
      "-> Epoch: 8 \tTrain. Loss: 0.751758 \tVal. Loss: 0.930689 \tDuration: 431.69 sec.\n",
      "Epoch: 9, Training Loss: 0.721198 \n",
      "Epoch: 9, Training Loss: 0.710945 \n",
      "Epoch: 9, Training Loss: 0.712646 \n",
      "Epoch: 9, Training Loss: 0.712456 \n",
      "-> Epoch: 9 \tTrain. Loss: 0.724024 \tVal. Loss: 0.745576 \tDuration: 431.29 sec.\n",
      "Epoch: 10, Training Loss: 0.580943 \n",
      "Epoch: 10, Training Loss: 0.751262 \n",
      "Epoch: 10, Training Loss: 0.721061 \n",
      "Epoch: 10, Training Loss: 0.718683 \n",
      "-> Epoch: 10 \tTrain. Loss: 0.727912 \tVal. Loss: 0.794556 \tDuration: 430.81 sec.\n",
      "Epoch: 11, Training Loss: 0.637617 \n",
      "Epoch: 11, Training Loss: 0.676659 \n",
      "Epoch: 11, Training Loss: 0.664853 \n",
      "Epoch: 11, Training Loss: 0.666340 \n",
      "-> Epoch: 11 \tTrain. Loss: 0.671771 \tVal. Loss: 0.733638 \tDuration: 432.44 sec.\n",
      "Epoch: 12, Training Loss: 0.735807 \n",
      "Epoch: 12, Training Loss: 0.692103 \n",
      "Epoch: 12, Training Loss: 0.696662 \n",
      "Epoch: 12, Training Loss: 0.701044 \n",
      "-> Epoch: 12 \tTrain. Loss: 0.691331 \tVal. Loss: 0.861797 \tDuration: 427.77 sec.\n",
      "Epoch: 13, Training Loss: 0.678968 \n",
      "Epoch: 13, Training Loss: 0.686132 \n",
      "Epoch: 13, Training Loss: 0.658090 \n",
      "Epoch: 13, Training Loss: 0.671156 \n",
      "-> Epoch: 13 \tTrain. Loss: 0.672431 \tVal. Loss: 0.829418 \tDuration: 428.51 sec.\n",
      "Epoch: 14, Training Loss: 0.689259 \n",
      "Epoch: 14, Training Loss: 0.716883 \n",
      "Epoch: 14, Training Loss: 0.667540 \n",
      "Epoch: 14, Training Loss: 0.659523 \n",
      "-> Epoch: 14 \tTrain. Loss: 0.655691 \tVal. Loss: 0.806256 \tDuration: 426.14 sec.\n",
      "Epoch: 15, Training Loss: 0.726685 \n",
      "Epoch: 15, Training Loss: 0.684183 \n",
      "Epoch: 15, Training Loss: 0.676856 \n",
      "Epoch: 15, Training Loss: 0.656776 \n",
      "-> Epoch: 15 \tTrain. Loss: 0.655057 \tVal. Loss: 0.821635 \tDuration: 424.72 sec.\n",
      "Epoch: 16, Training Loss: 0.710694 \n",
      "Epoch: 16, Training Loss: 0.641710 \n",
      "Epoch: 16, Training Loss: 0.643309 \n",
      "Epoch: 16, Training Loss: 0.631915 \n",
      "-> Epoch: 16 \tTrain. Loss: 0.630922 \tVal. Loss: 1.149022 \tDuration: 425.83 sec.\n",
      "Epoch: 17, Training Loss: 0.695707 \n",
      "Epoch: 17, Training Loss: 0.670383 \n",
      "Epoch: 17, Training Loss: 0.644345 \n",
      "Epoch: 17, Training Loss: 0.642241 \n",
      "-> Epoch: 17 \tTrain. Loss: 0.637075 \tVal. Loss: 0.796595 \tDuration: 425.19 sec.\n",
      "Epoch: 18, Training Loss: 0.578334 \n",
      "Epoch: 18, Training Loss: 0.597405 \n",
      "Epoch: 18, Training Loss: 0.627868 \n",
      "Epoch: 18, Training Loss: 0.623199 \n",
      "-> Epoch: 18 \tTrain. Loss: 0.624599 \tVal. Loss: 0.824127 \tDuration: 424.16 sec.\n",
      "Epoch: 19, Training Loss: 0.817512 \n",
      "Epoch: 19, Training Loss: 0.619292 \n",
      "Epoch: 19, Training Loss: 0.635329 \n",
      "Epoch: 19, Training Loss: 0.629336 \n",
      "-> Epoch: 19 \tTrain. Loss: 0.628754 \tVal. Loss: 0.740913 \tDuration: 424.15 sec.\n",
      "Epoch: 20, Training Loss: 0.729411 \n",
      "Epoch: 20, Training Loss: 0.641212 \n",
      "Epoch: 20, Training Loss: 0.595168 \n",
      "Epoch: 20, Training Loss: 0.602534 \n",
      "-> Epoch: 20 \tTrain. Loss: 0.602174 \tVal. Loss: 0.859667 \tDuration: 423.99 sec.\n",
      "Epoch: 21, Training Loss: 0.523800 \n",
      "Epoch: 21, Training Loss: 0.596639 \n",
      "Epoch: 21, Training Loss: 0.610509 \n",
      "Epoch: 21, Training Loss: 0.601747 \n",
      "-> Epoch: 21 \tTrain. Loss: 0.598375 \tVal. Loss: 0.783402 \tDuration: 425.38 sec.\n",
      "Epoch: 22, Training Loss: 0.517444 \n",
      "Epoch: 22, Training Loss: 0.538386 \n",
      "Epoch: 22, Training Loss: 0.582425 \n",
      "Epoch: 22, Training Loss: 0.603920 \n",
      "-> Epoch: 22 \tTrain. Loss: 0.600301 \tVal. Loss: 0.810467 \tDuration: 425.91 sec.\n",
      "Epoch: 23, Training Loss: 0.625721 \n",
      "Epoch: 23, Training Loss: 0.610325 \n",
      "Epoch: 23, Training Loss: 0.601007 \n",
      "Epoch: 23, Training Loss: 0.589755 \n",
      "-> Epoch: 23 \tTrain. Loss: 0.593529 \tVal. Loss: 0.660512 \tDuration: 425.94 sec.\n",
      "Epoch: 24, Training Loss: 0.537807 \n",
      "Epoch: 24, Training Loss: 0.590687 \n",
      "Epoch: 24, Training Loss: 0.583558 \n",
      "Epoch: 24, Training Loss: 0.585654 \n",
      "-> Epoch: 24 \tTrain. Loss: 0.588647 \tVal. Loss: 0.710306 \tDuration: 422.62 sec.\n",
      "Epoch: 25, Training Loss: 0.727138 \n",
      "Epoch: 25, Training Loss: 0.607175 \n",
      "Epoch: 25, Training Loss: 0.599235 \n",
      "Epoch: 25, Training Loss: 0.590155 \n",
      "-> Epoch: 25 \tTrain. Loss: 0.585538 \tVal. Loss: 0.763492 \tDuration: 426.38 sec.\n",
      "Epoch: 26, Training Loss: 0.524964 \n",
      "Epoch: 26, Training Loss: 0.513800 \n",
      "Epoch: 26, Training Loss: 0.558017 \n",
      "Epoch: 26, Training Loss: 0.584957 \n",
      "-> Epoch: 26 \tTrain. Loss: 0.597021 \tVal. Loss: 0.919867 \tDuration: 425.75 sec.\n",
      "Epoch: 27, Training Loss: 0.504693 \n",
      "Epoch: 27, Training Loss: 0.602553 \n",
      "Epoch: 27, Training Loss: 0.576439 \n",
      "Epoch: 27, Training Loss: 0.595725 \n",
      "-> Epoch: 27 \tTrain. Loss: 0.589513 \tVal. Loss: 0.753030 \tDuration: 423.79 sec.\n",
      "Epoch: 28, Training Loss: 0.684320 \n",
      "Epoch: 28, Training Loss: 0.566386 \n",
      "Epoch: 28, Training Loss: 0.574444 \n",
      "Epoch: 28, Training Loss: 0.574268 \n",
      "-> Epoch: 28 \tTrain. Loss: 0.578489 \tVal. Loss: 0.984552 \tDuration: 425.94 sec.\n",
      "Epoch: 29, Training Loss: 0.529391 \n",
      "Epoch: 29, Training Loss: 0.526440 \n",
      "Epoch: 29, Training Loss: 0.561535 \n",
      "Epoch: 29, Training Loss: 0.569704 \n",
      "-> Epoch: 29 \tTrain. Loss: 0.564909 \tVal. Loss: 0.885979 \tDuration: 426.32 sec.\n",
      "Epoch: 30, Training Loss: 0.598734 \n",
      "Epoch: 30, Training Loss: 0.554843 \n",
      "Epoch: 30, Training Loss: 0.546393 \n",
      "Epoch: 30, Training Loss: 0.550236 \n",
      "-> Epoch: 30 \tTrain. Loss: 0.549368 \tVal. Loss: 0.705438 \tDuration: 425.94 sec.\n",
      "Epoch: 31, Training Loss: 0.477509 \n",
      "Epoch: 31, Training Loss: 0.484774 \n",
      "Epoch: 31, Training Loss: 0.521424 \n",
      "Epoch: 31, Training Loss: 0.533463 \n",
      "-> Epoch: 31 \tTrain. Loss: 0.531276 \tVal. Loss: 0.859294 \tDuration: 422.71 sec.\n",
      "Epoch: 32, Training Loss: 0.506469 \n",
      "Epoch: 32, Training Loss: 0.557841 \n",
      "Epoch: 32, Training Loss: 0.545552 \n",
      "Epoch: 32, Training Loss: 0.560585 \n",
      "-> Epoch: 32 \tTrain. Loss: 0.559913 \tVal. Loss: 0.959752 \tDuration: 426.53 sec.\n",
      "Epoch: 33, Training Loss: 0.493839 \n",
      "Epoch: 33, Training Loss: 0.494107 \n",
      "Epoch: 33, Training Loss: 0.515751 \n",
      "Epoch: 33, Training Loss: 0.533424 \n",
      "-> Epoch: 33 \tTrain. Loss: 0.529076 \tVal. Loss: 1.009070 \tDuration: 427.76 sec.\n",
      "Epoch: 34, Training Loss: 0.440752 \n",
      "Epoch: 34, Training Loss: 0.509990 \n",
      "Epoch: 34, Training Loss: 0.531789 \n",
      "Epoch: 34, Training Loss: 0.527083 \n",
      "-> Epoch: 34 \tTrain. Loss: 0.521351 \tVal. Loss: 1.014627 \tDuration: 424.64 sec.\n",
      "Epoch: 35, Training Loss: 0.455768 \n",
      "Epoch: 35, Training Loss: 0.534844 \n",
      "Epoch: 35, Training Loss: 0.512172 \n",
      "Epoch: 35, Training Loss: 0.516518 \n",
      "-> Epoch: 35 \tTrain. Loss: 0.522226 \tVal. Loss: 0.765961 \tDuration: 422.19 sec.\n",
      "Epoch: 36, Training Loss: 0.475459 \n",
      "Epoch: 36, Training Loss: 0.491060 \n",
      "Epoch: 36, Training Loss: 0.501729 \n",
      "Epoch: 36, Training Loss: 0.504406 \n",
      "-> Epoch: 36 \tTrain. Loss: 0.507315 \tVal. Loss: 0.966692 \tDuration: 423.27 sec.\n",
      "Epoch: 37, Training Loss: 0.567090 \n",
      "Epoch: 37, Training Loss: 0.508416 \n",
      "Epoch: 37, Training Loss: 0.491917 \n",
      "Epoch: 37, Training Loss: 0.491425 \n",
      "-> Epoch: 37 \tTrain. Loss: 0.487157 \tVal. Loss: 0.852675 \tDuration: 423.68 sec.\n",
      "Epoch: 38, Training Loss: 0.461483 \n",
      "Epoch: 38, Training Loss: 0.491092 \n",
      "Epoch: 38, Training Loss: 0.490429 \n",
      "Epoch: 38, Training Loss: 0.501916 \n",
      "-> Epoch: 38 \tTrain. Loss: 0.500950 \tVal. Loss: 0.970771 \tDuration: 424.49 sec.\n",
      "Epoch: 39, Training Loss: 0.531220 \n",
      "Epoch: 39, Training Loss: 0.509978 \n",
      "Epoch: 39, Training Loss: 0.512195 \n",
      "Epoch: 39, Training Loss: 0.493937 \n",
      "-> Epoch: 39 \tTrain. Loss: 0.491035 \tVal. Loss: 1.742541 \tDuration: 425.64 sec.\n",
      "Epoch: 40, Training Loss: 0.363363 \n",
      "Epoch: 40, Training Loss: 0.467687 \n",
      "Epoch: 40, Training Loss: 0.472690 \n",
      "Epoch: 40, Training Loss: 0.474977 \n",
      "-> Epoch: 40 \tTrain. Loss: 0.483940 \tVal. Loss: 0.862962 \tDuration: 426.20 sec.\n",
      "Epoch: 41, Training Loss: 0.572216 \n",
      "Epoch: 41, Training Loss: 0.490730 \n",
      "Epoch: 41, Training Loss: 0.484905 \n",
      "Epoch: 41, Training Loss: 0.487569 \n",
      "-> Epoch: 41 \tTrain. Loss: 0.491269 \tVal. Loss: 0.791842 \tDuration: 424.34 sec.\n",
      "Epoch: 42, Training Loss: 0.374386 \n",
      "Epoch: 42, Training Loss: 0.457935 \n",
      "Epoch: 42, Training Loss: 0.453771 \n",
      "Epoch: 42, Training Loss: 0.476847 \n",
      "-> Epoch: 42 \tTrain. Loss: 0.485228 \tVal. Loss: 0.787121 \tDuration: 423.35 sec.\n",
      "Epoch: 43, Training Loss: 0.395886 \n",
      "Epoch: 43, Training Loss: 0.475155 \n",
      "Epoch: 43, Training Loss: 0.473331 \n",
      "Epoch: 43, Training Loss: 0.487015 \n",
      "-> Epoch: 43 \tTrain. Loss: 0.483500 \tVal. Loss: 0.759792 \tDuration: 421.48 sec.\n",
      "Epoch: 44, Training Loss: 0.425887 \n",
      "Epoch: 44, Training Loss: 0.501408 \n",
      "Epoch: 44, Training Loss: 0.462442 \n",
      "Epoch: 44, Training Loss: 0.460197 \n",
      "-> Epoch: 44 \tTrain. Loss: 0.453625 \tVal. Loss: 0.888547 \tDuration: 421.32 sec.\n",
      "Epoch: 45, Training Loss: 0.522440 \n",
      "Epoch: 45, Training Loss: 0.479544 \n",
      "Epoch: 45, Training Loss: 0.462871 \n",
      "Epoch: 45, Training Loss: 0.452883 \n",
      "-> Epoch: 45 \tTrain. Loss: 0.454752 \tVal. Loss: 0.994067 \tDuration: 423.09 sec.\n",
      "Epoch: 46, Training Loss: 0.413778 \n",
      "Epoch: 46, Training Loss: 0.418012 \n",
      "Epoch: 46, Training Loss: 0.445875 \n",
      "Epoch: 46, Training Loss: 0.468599 \n",
      "-> Epoch: 46 \tTrain. Loss: 0.482551 \tVal. Loss: 0.601074 \tDuration: 424.13 sec.\n",
      "Epoch: 47, Training Loss: 0.441697 \n",
      "Epoch: 47, Training Loss: 0.470721 \n",
      "Epoch: 47, Training Loss: 0.472331 \n",
      "Epoch: 47, Training Loss: 0.489694 \n",
      "-> Epoch: 47 \tTrain. Loss: 0.525232 \tVal. Loss: 0.780695 \tDuration: 422.25 sec.\n",
      "Epoch: 48, Training Loss: 0.399218 \n",
      "Epoch: 48, Training Loss: 0.507257 \n",
      "Epoch: 48, Training Loss: 0.486323 \n",
      "Epoch: 48, Training Loss: 0.457992 \n",
      "-> Epoch: 48 \tTrain. Loss: 0.461341 \tVal. Loss: 0.881832 \tDuration: 421.66 sec.\n",
      "Epoch: 49, Training Loss: 0.430326 \n",
      "Epoch: 49, Training Loss: 0.441762 \n",
      "Epoch: 49, Training Loss: 0.434158 \n",
      "Epoch: 49, Training Loss: 0.446311 \n",
      "-> Epoch: 49 \tTrain. Loss: 0.449146 \tVal. Loss: 0.881284 \tDuration: 420.71 sec.\n",
      "Epoch: 50, Training Loss: 0.533421 \n",
      "Epoch: 50, Training Loss: 0.461408 \n",
      "Epoch: 50, Training Loss: 0.448207 \n",
      "Epoch: 50, Training Loss: 0.449497 \n",
      "-> Epoch: 50 \tTrain. Loss: 0.451201 \tVal. Loss: 1.019035 \tDuration: 420.60 sec.\n"
     ]
    }
   ],
   "source": [
    "# Train the model\n",
    "filepath = './models/model_best.pt'\n",
    "n_epochs = 50 # 100\n",
    "\n",
    "#from workspace_utils import active_session\n",
    "#with active_session():\n",
    "\n",
    "model, loss = train(n_epochs, loaders, model, optimizer, criterion, use_cuda, filepath)"
   ]
  },
  {
   "cell_type": "code",
   "execution_count": 21,
   "id": "9f8fd9af",
   "metadata": {
    "colab": {
     "base_uri": "https://localhost:8080/",
     "height": 285
    },
    "id": "9f8fd9af",
    "outputId": "9d244679-d0ec-4dd2-a1d4-22cc5276fc8d"
   },
   "outputs": [
    {
     "data": {
      "text/plain": [
       "<matplotlib.legend.Legend at 0x7fdc2103db90>"
      ]
     },
     "execution_count": 21,
     "metadata": {},
     "output_type": "execute_result"
    },
    {
     "data": {
      "image/png": "[encoded data removed]",
      "text/plain": [
       "<Figure size 432x288 with 1 Axes>"
      ]
     },
     "metadata": {
      "needs_background": "light"
     },
     "output_type": "display_data"
    }
   ],
   "source": [
    "# Plot the loss evolution\n",
    "from matplotlib import pyplot as plt\n",
    "plt.plot(loss['train'][1:], label='Training loss')\n",
    "plt.plot(loss['valid'][1:], label='Validation loss')\n",
    "plt.legend(frameon=False)"
   ]
  },
  {
   "cell_type": "markdown",
   "id": "f043ccf3",
   "metadata": {
    "id": "f043ccf3"
   },
   "source": [
    "## 3. Evaluation"
   ]
  },
  {
   "cell_type": "markdown",
   "id": "10510d37",
   "metadata": {
    "id": "10510d37"
   },
   "source": [
    "### 3.1 Performance with the Test Split"
   ]
  },
  {
   "cell_type": "code",
   "execution_count": 22,
   "id": "3d51c802",
   "metadata": {
    "id": "3d51c802"
   },
   "outputs": [],
   "source": [
    "# Load the model that got the best validation accuracy\n",
    "filepath = './models/model_best.pt'\n",
    "model = load_checkpoint(filepath, model)"
   ]
  },
  {
   "cell_type": "code",
   "execution_count": 23,
   "id": "50709df3",
   "metadata": {
    "id": "50709df3"
   },
   "outputs": [],
   "source": [
    "import pandas as pd\n",
    "\n",
    "def test(loaders, model, criterion, use_cuda, batch_size):\n",
    "\n",
    "    # Monitor test loss and accuracy\n",
    "    test_loss = 0.\n",
    "    correct = 0.\n",
    "    total = 0.\n",
    "    \n",
    "    # Track samples: filename, y_true, y_pred\n",
    "    # IMPORTANT: Set shuffle=False in the data loader creation\n",
    "    # to preserve filename-sample link\n",
    "    filenames = []\n",
    "    y_true = []\n",
    "    y_pred = []\n",
    "    \n",
    "    if use_cuda:\n",
    "        model = model.cuda()\n",
    "    \n",
    "    model.eval()\n",
    "    for batch_idx, (data, target) in enumerate(loaders['test'],0):\n",
    "        # Move to GPU\n",
    "        if use_cuda:\n",
    "            data, target = data.cuda(), target.cuda()\n",
    "        # Get filenames\n",
    "        for i in range(target.size(0)):\n",
    "            sample_fname, _ = loaders['test'].dataset.samples[batch_idx*batch_size + i]\n",
    "            filenames.append(sample_fname)\n",
    "            #print(sample_fname)\n",
    "        with torch.no_grad():\n",
    "            # Forward pass: compute predicted outputs by passing inputs to the model\n",
    "            output = model(data)\n",
    "            # Calculate the loss\n",
    "            loss = criterion(output, target)\n",
    "        # Update average test loss \n",
    "        test_loss = test_loss + ((1 / (batch_idx + 1)) * (loss.data - test_loss))\n",
    "        # Convert output probabilities to predicted class\n",
    "        pred = output.data.max(1, keepdim=True)[1]\n",
    "        # Get y_true, y_pred\n",
    "        y_pred.extend(list(pred.data.view_as(target).cpu().numpy()))\n",
    "        y_true.extend(list(target.cpu().numpy()))\n",
    "        # Compare predictions to true label\n",
    "        correct += np.sum(np.squeeze(pred.eq(target.data.view_as(pred))).cpu().numpy())\n",
    "        total += data.size(0)\n",
    "            \n",
    "    print('Test Loss: {:.6f}\\n'.format(test_loss))\n",
    "\n",
    "    print('\\nTest Accuracy: %2d%% (%2d/%2d)' % (\n",
    "        100. * correct / total, correct, total))\n",
    "    \n",
    "    # Save results dataframe\n",
    "    table = {'filename':filenames, 'y_true':y_true, 'y_pred':y_pred }\n",
    "    df = pd.DataFrame(table)\n",
    "    \n",
    "    return df"
   ]
  },
  {
   "cell_type": "code",
   "execution_count": 24,
   "id": "a2413624",
   "metadata": {
    "colab": {
     "base_uri": "https://localhost:8080/"
    },
    "id": "a2413624",
    "outputId": "7294cf31-3448-4cf6-8716-e6cd284627f8"
   },
   "outputs": [
    {
     "name": "stdout",
     "output_type": "stream",
     "text": [
      "Test Loss: 0.864766\n",
      "\n",
      "\n",
      "Test Accuracy: 64% (387/600)\n"
     ]
    }
   ],
   "source": [
    "# Call test function    \n",
    "df = test(loaders, model, criterion, use_cuda, batch_size)"
   ]
  },
  {
   "cell_type": "markdown",
   "id": "7d457933",
   "metadata": {
    "id": "7d457933"
   },
   "source": [
    "### 3.2 Evaluation Metrics and Plots"
   ]
  },
  {
   "cell_type": "markdown",
   "id": "NdjmTiK0_csu",
   "metadata": {
    "id": "NdjmTiK0_csu"
   },
   "source": [
    "#### Save Learning Curves (Plotted Before)"
   ]
  },
  {
   "cell_type": "code",
   "execution_count": 25,
   "id": "885oyCDn_hQO",
   "metadata": {
    "colab": {
     "base_uri": "https://localhost:8080/"
    },
    "id": "885oyCDn_hQO",
    "outputId": "780f88cc-2f0d-473f-b6dd-aec83efabe74"
   },
   "outputs": [
    {
     "data": {
      "text/plain": [
       "['models/learning_curves_best.pkl']"
      ]
     },
     "execution_count": 25,
     "metadata": {},
     "output_type": "execute_result"
    }
   ],
   "source": [
    "import joblib\n",
    "joblib.dump(loss, 'models/learning_curves_best.pkl')"
   ]
  },
  {
   "cell_type": "code",
   "execution_count": 26,
   "id": "Ug2EYIhN_cNj",
   "metadata": {
    "id": "Ug2EYIhN_cNj"
   },
   "outputs": [],
   "source": [
    "loss = joblib.load('models/learning_curves_best.pkl')"
   ]
  },
  {
   "cell_type": "markdown",
   "id": "4caf3c9f",
   "metadata": {
    "id": "4caf3c9f"
   },
   "source": [
    "#### Three Classes"
   ]
  },
  {
   "cell_type": "code",
   "execution_count": 27,
   "id": "367f2d9b",
   "metadata": {
    "id": "367f2d9b"
   },
   "outputs": [],
   "source": [
    "y_true = df['y_true']\n",
    "y_pred = df['y_pred']"
   ]
  },
  {
   "cell_type": "code",
   "execution_count": 28,
   "id": "051311f3",
   "metadata": {
    "id": "051311f3"
   },
   "outputs": [],
   "source": [
    "import seaborn as sns\n",
    "from sklearn.metrics import classification_report, confusion_matrix, roc_curve, auc, plot_roc_curve"
   ]
  },
  {
   "cell_type": "code",
   "execution_count": 30,
   "id": "8970554e",
   "metadata": {
    "colab": {
     "base_uri": "https://localhost:8080/",
     "height": 590
    },
    "id": "8970554e",
    "outputId": "f56cfc3b-39c3-4364-dba2-75c868693c7d"
   },
   "outputs": [
    {
     "name": "stdout",
     "output_type": "stream",
     "text": [
      "              precision    recall  f1-score   support\n",
      "\n",
      "           0       0.40      0.56      0.47       117\n",
      "           1       0.80      0.70      0.75       393\n",
      "           2       0.49      0.49      0.49        90\n",
      "\n",
      "    accuracy                           0.65       600\n",
      "   macro avg       0.56      0.59      0.57       600\n",
      "weighted avg       0.68      0.65      0.66       600\n",
      "\n"
     ]
    },
    {
     "data": {
      "image/png": "[encoded data removed]",
      "text/plain": [
       "<Figure size 432x432 with 2 Axes>"
      ]
     },
     "metadata": {},
     "output_type": "display_data"
    }
   ],
   "source": [
    "# Confusion matrix; classification report: accuracy, precision, recall, F1\n",
    "print(classification_report(y_true,y_pred))\n",
    "plt.figure(figsize=(6,6))\n",
    "fontsize=14\n",
    "sns.set(font_scale=1.2)\n",
    "sns.heatmap(confusion_matrix(y_true,y_pred), annot=True, xticklabels=class_names, yticklabels=class_names)\n",
    "plt.ylabel('True label',fontsize=fontsize)\n",
    "plt.xlabel('Predicted label',fontsize=fontsize)\n",
    "plt.title('Confusion Matrix',fontsize=fontsize+2)\n",
    "plt.savefig('./images/confusion_matrix.png',dpi=200,transparent=False,bbox_inches='tight')"
   ]
  },
  {
   "cell_type": "markdown",
   "id": "4bb6d499",
   "metadata": {
    "id": "4bb6d499"
   },
   "source": [
    "#### Cancer vs Non-Cancer / Malign bs Bening"
   ]
  },
  {
   "cell_type": "code",
   "execution_count": 31,
   "id": "9c123943",
   "metadata": {
    "id": "9c123943"
   },
   "outputs": [],
   "source": [
    "y_true = df['y_true'].replace({0:1, 1:0, 2:0}) # 1 = malign, 0 = bening\n",
    "y_pred = df['y_pred'].replace({0:1, 1:0, 2:0}) # 1 = malign, 0 = bening"
   ]
  },
  {
   "cell_type": "code",
   "execution_count": 32,
   "id": "c931b746",
   "metadata": {
    "colab": {
     "base_uri": "https://localhost:8080/"
    },
    "id": "c931b746",
    "outputId": "c3a4e42c-37bb-4df7-9492-f8a95cc53ecb"
   },
   "outputs": [
    {
     "data": {
      "text/plain": [
       "array([1, 0])"
      ]
     },
     "execution_count": 32,
     "metadata": {},
     "output_type": "execute_result"
    }
   ],
   "source": [
    "y_true.unique()"
   ]
  },
  {
   "cell_type": "code",
   "execution_count": 33,
   "id": "80190ac7",
   "metadata": {
    "colab": {
     "base_uri": "https://localhost:8080/",
     "height": 463
    },
    "id": "80190ac7",
    "outputId": "e38864ec-1e58-4858-d339-11f376d4a70f"
   },
   "outputs": [
    {
     "name": "stdout",
     "output_type": "stream",
     "text": [
      "              precision    recall  f1-score   support\n",
      "\n",
      "           0       0.88      0.80      0.84       483\n",
      "           1       0.40      0.56      0.47       117\n",
      "\n",
      "    accuracy                           0.75       600\n",
      "   macro avg       0.64      0.68      0.66       600\n",
      "weighted avg       0.79      0.75      0.77       600\n",
      "\n"
     ]
    },
    {
     "data": {
      "text/plain": [
       "Text(0.5, 9.5, 'Predicted label')"
      ]
     },
     "execution_count": 33,
     "metadata": {},
     "output_type": "execute_result"
    },
    {
     "data": {
      "image/png": "[encoded data removed]",
      "text/plain": [
       "<Figure size 432x288 with 2 Axes>"
      ]
     },
     "metadata": {},
     "output_type": "display_data"
    }
   ],
   "source": [
    "print(classification_report(y_true,y_pred))\n",
    "sns.heatmap(confusion_matrix(y_true,y_pred), annot=True, xticklabels=['malign', 'bening'], yticklabels=['malign', 'bening'])\n",
    "plt.ylabel('True label')\n",
    "plt.xlabel('Predicted label')"
   ]
  },
  {
   "cell_type": "code",
   "execution_count": 34,
   "id": "da001f22",
   "metadata": {
    "colab": {
     "base_uri": "https://localhost:8080/",
     "height": 416
    },
    "id": "da001f22",
    "outputId": "f9eed2f5-3df3-4f3e-e27e-da00019e8c89"
   },
   "outputs": [
    {
     "data": {
      "image/png": "[encoded data removed]",
      "text/plain": [
       "<Figure size 432x432 with 1 Axes>"
      ]
     },
     "metadata": {},
     "output_type": "display_data"
    }
   ],
   "source": [
    "# Compute ROC curve\n",
    "fpr, tpr, thr = roc_curve(y_true, y_pred)\n",
    "# Obtain ROC AUC\n",
    "roc_auc = auc(fpr, tpr)\n",
    "# Plot ROC curve\n",
    "plt.figure(figsize=(6,6))\n",
    "plt.plot(fpr, tpr, color='aqua', lw=2,\n",
    "         label=f'ROC curve (area = {roc_auc:.2f})')\n",
    "\n",
    "# Format figure\n",
    "fontsize = 14\n",
    "plt.plot([0, 1], [0, 1], 'k--', lw=2)\n",
    "plt.xlim([0.0, 1.0])\n",
    "plt.ylim([0.0, 1.0])\n",
    "plt.xlabel('False Positive Rate', fontsize=fontsize)\n",
    "plt.ylabel('True Positive Rate', fontsize=fontsize)\n",
    "plt.title('ROC curve: Malign vs. Bening', fontsize=fontsize+2)\n",
    "plt.legend(loc=\"lower right\")\n",
    "plt.savefig('./images/roc.png',dpi=200,transparent=False,bbox_inches='tight')"
   ]
  },
  {
   "cell_type": "markdown",
   "id": "f3e65336",
   "metadata": {
    "id": "f3e65336"
   },
   "source": [
    "### 3.3 Save Results"
   ]
  },
  {
   "cell_type": "code",
   "execution_count": 35,
   "id": "89ec81d4",
   "metadata": {
    "id": "89ec81d4"
   },
   "outputs": [],
   "source": [
    "df_save = df\n",
    "df_save['y_true'] = df_save['y_true'].replace({0:class_names[0], 1:class_names[1], 2:class_names[2]})\n",
    "df_save['y_pred'] = df_save['y_pred'].replace({0:class_names[0], 1:class_names[1], 2:class_names[2]})"
   ]
  },
  {
   "cell_type": "code",
   "execution_count": 36,
   "id": "bf78b5bc",
   "metadata": {
    "id": "bf78b5bc"
   },
   "outputs": [],
   "source": [
    "# Save to file\n",
    "save_path = 'results.csv'\n",
    "df_save.to_csv(save_path, sep=',', header=True, index=False)\n",
    "df_save = pd.read_csv(save_path)"
   ]
  },
  {
   "cell_type": "code",
   "execution_count": 37,
   "id": "d2a14daa",
   "metadata": {
    "colab": {
     "base_uri": "https://localhost:8080/",
     "height": 206
    },
    "id": "d2a14daa",
    "outputId": "025d8b6d-a98b-4f86-8683-0ec3cabb7691"
   },
   "outputs": [
    {
     "data": {
      "text/html": [
       "\n",
       "  <div id=\"df-69c89b35-7a18-4121-b8f2-e57ae2d96d22\">\n",
       "    <div class=\"colab-df-container\">\n",
       "      <div>\n",
       "<style scoped>\n",
       "    .dataframe tbody tr th:only-of-type {\n",
       "        vertical-align: middle;\n",
       "    }\n",
       "\n",
       "    .dataframe tbody tr th {\n",
       "        vertical-align: top;\n",
       "    }\n",
       "\n",
       "    .dataframe thead th {\n",
       "        text-align: right;\n",
       "    }\n",
       "</style>\n",
       "<table border=\"1\" class=\"dataframe\">\n",
       "  <thead>\n",
       "    <tr style=\"text-align: right;\">\n",
       "      <th></th>\n",
       "      <th>filename</th>\n",
       "      <th>y_true</th>\n",
       "      <th>y_pred</th>\n",
       "    </tr>\n",
       "  </thead>\n",
       "  <tbody>\n",
       "    <tr>\n",
       "      <th>0</th>\n",
       "      <td>./data/test/melanoma/ISIC_0012258.jpg</td>\n",
       "      <td>melanoma</td>\n",
       "      <td>seborrheic keratosis</td>\n",
       "    </tr>\n",
       "    <tr>\n",
       "      <th>1</th>\n",
       "      <td>./data/test/melanoma/ISIC_0012356.jpg</td>\n",
       "      <td>melanoma</td>\n",
       "      <td>melanoma</td>\n",
       "    </tr>\n",
       "    <tr>\n",
       "      <th>2</th>\n",
       "      <td>./data/test/melanoma/ISIC_0012369.jpg</td>\n",
       "      <td>melanoma</td>\n",
       "      <td>melanoma</td>\n",
       "    </tr>\n",
       "    <tr>\n",
       "      <th>3</th>\n",
       "      <td>./data/test/melanoma/ISIC_0012395.jpg</td>\n",
       "      <td>melanoma</td>\n",
       "      <td>melanoma</td>\n",
       "    </tr>\n",
       "    <tr>\n",
       "      <th>4</th>\n",
       "      <td>./data/test/melanoma/ISIC_0012425.jpg</td>\n",
       "      <td>melanoma</td>\n",
       "      <td>nevus</td>\n",
       "    </tr>\n",
       "  </tbody>\n",
       "</table>\n",
       "</div>\n",
       "      <button class=\"colab-df-convert\" onclick=\"convertToInteractive('df-69c89b35-7a18-4121-b8f2-e57ae2d96d22')\"\n",
       "              title=\"Convert this dataframe to an interactive table.\"\n",
       "              style=\"display:none;\">\n",
       "        \n",
       "  <svg xmlns=\"http://www.w3.org/2000/svg\" height=\"24px\"viewBox=\"0 0 24 24\"\n",
       "       width=\"24px\">\n",
       "    <path d=\"M0 0h24v24H0V0z\" fill=\"none\"/>\n",
       "    <path d=\"M18.56 5.44l.94 2.06.94-2.06 2.06-.94-2.06-.94-.94-2.06-.94 2.06-2.06.94zm-11 1L8.5 8.5l.94-2.06 2.06-.94-2.06-.94L8.5 2.5l-.94 2.06-2.06.94zm10 10l.94 2.06.94-2.06 2.06-.94-2.06-.94-.94-2.06-.94 2.06-2.06.94z\"/><path d=\"M17.41 7.96l-1.37-1.37c-.4-.4-.92-.59-1.43-.59-.52 0-1.04.2-1.43.59L10.3 9.45l-7.72 7.72c-.78.78-.78 2.05 0 2.83L4 21.41c.39.39.9.59 1.41.59.51 0 1.02-.2 1.41-.59l7.78-7.78 2.81-2.81c.8-.78.8-2.07 0-2.86zM5.41 20L4 18.59l7.72-7.72 1.47 1.35L5.41 20z\"/>\n",
       "  </svg>\n",
       "      </button>\n",
       "      \n",
       "  <style>\n",
       "    .colab-df-container {\n",
       "      display:flex;\n",
       "      flex-wrap:wrap;\n",
       "      gap: 12px;\n",
       "    }\n",
       "\n",
       "    .colab-df-convert {\n",
       "      background-color: #E8F0FE;\n",
       "      border: none;\n",
       "      border-radius: 50%;\n",
       "      cursor: pointer;\n",
       "      display: none;\n",
       "      fill: #1967D2;\n",
       "      height: 32px;\n",
       "      padding: 0 0 0 0;\n",
       "      width: 32px;\n",
       "    }\n",
       "\n",
       "    .colab-df-convert:hover {\n",
       "      background-color: #E2EBFA;\n",
       "      box-shadow: 0px 1px 2px rgba(60, 64, 67, 0.3), 0px 1px 3px 1px rgba(60, 64, 67, 0.15);\n",
       "      fill: #174EA6;\n",
       "    }\n",
       "\n",
       "    [theme=dark] .colab-df-convert {\n",
       "      background-color: #3B4455;\n",
       "      fill: #D2E3FC;\n",
       "    }\n",
       "\n",
       "    [theme=dark] .colab-df-convert:hover {\n",
       "      background-color: #434B5C;\n",
       "      box-shadow: 0px 1px 3px 1px rgba(0, 0, 0, 0.15);\n",
       "      filter: drop-shadow(0px 1px 2px rgba(0, 0, 0, 0.3));\n",
       "      fill: #FFFFFF;\n",
       "    }\n",
       "  </style>\n",
       "\n",
       "      <script>\n",
       "        const buttonEl =\n",
       "          document.querySelector('#df-69c89b35-7a18-4121-b8f2-e57ae2d96d22 button.colab-df-convert');\n",
       "        buttonEl.style.display =\n",
       "          google.colab.kernel.accessAllowed ? 'block' : 'none';\n",
       "\n",
       "        async function convertToInteractive(key) {\n",
       "          const element = document.querySelector('#df-69c89b35-7a18-4121-b8f2-e57ae2d96d22');\n",
       "          const dataTable =\n",
       "            await google.colab.kernel.invokeFunction('convertToInteractive',\n",
       "                                                     [key], {});\n",
       "          if (!dataTable) return;\n",
       "\n",
       "          const docLinkHtml = 'Like what you see? Visit the ' +\n",
       "            '<a target=\"_blank\" href=https://colab.research.google.com/notebooks/data_table.ipynb>data table notebook</a>'\n",
       "            + ' to learn more about interactive tables.';\n",
       "          element.innerHTML = '';\n",
       "          dataTable['output_type'] = 'display_data';\n",
       "          await google.colab.output.renderOutput(dataTable, element);\n",
       "          const docLink = document.createElement('div');\n",
       "          docLink.innerHTML = docLinkHtml;\n",
       "          element.appendChild(docLink);\n",
       "        }\n",
       "      </script>\n",
       "    </div>\n",
       "  </div>\n",
       "  "
      ],
      "text/plain": [
       "                                filename    y_true                y_pred\n",
       "0  ./data/test/melanoma/ISIC_0012258.jpg  melanoma  seborrheic keratosis\n",
       "1  ./data/test/melanoma/ISIC_0012356.jpg  melanoma              melanoma\n",
       "2  ./data/test/melanoma/ISIC_0012369.jpg  melanoma              melanoma\n",
       "3  ./data/test/melanoma/ISIC_0012395.jpg  melanoma              melanoma\n",
       "4  ./data/test/melanoma/ISIC_0012425.jpg  melanoma                 nevus"
      ]
     },
     "execution_count": 37,
     "metadata": {},
     "output_type": "execute_result"
    }
   ],
   "source": [
    "df_save.head()"
   ]
  },
  {
   "cell_type": "code",
   "execution_count": 38,
   "id": "34e45777",
   "metadata": {
    "id": "34e45777"
   },
   "outputs": [],
   "source": [
    "# Load and un-transform class names\n",
    "save_path = 'results.csv'\n",
    "df = pd.read_csv(save_path)\n",
    "df['y_true'] = df['y_true'].replace({class_names[0]:0, class_names[1]:1, class_names[2]:2})\n",
    "df['y_pred'] = df['y_pred'].replace({class_names[0]:0, class_names[1]:1, class_names[2]:2})"
   ]
  },
  {
   "cell_type": "markdown",
   "id": "VGvUkKh99jze",
   "metadata": {
    "id": "VGvUkKh99jze"
   },
   "source": [
    "### 3.4 Download files from Colab"
   ]
  },
  {
   "cell_type": "code",
   "execution_count": 39,
   "id": "r0IaTbis9opS",
   "metadata": {
    "colab": {
     "base_uri": "https://localhost:8080/",
     "height": 34
    },
    "id": "r0IaTbis9opS",
    "outputId": "4e45d394-ba0a-4b0a-9735-801bb4afefad"
   },
   "outputs": [
    {
     "data": {
      "application/javascript": [
       "\n",
       "    async function download(id, filename, size) {\n",
       "      if (!google.colab.kernel.accessAllowed) {\n",
       "        return;\n",
       "      }\n",
       "      const div = document.createElement('div');\n",
       "      const label = document.createElement('label');\n",
       "      label.textContent = `Downloading \"${filename}\": `;\n",
       "      div.appendChild(label);\n",
       "      const progress = document.createElement('progress');\n",
       "      progress.max = size;\n",
       "      div.appendChild(progress);\n",
       "      document.body.appendChild(div);\n",
       "\n",
       "      const buffers = [];\n",
       "      let downloaded = 0;\n",
       "\n",
       "      const channel = await google.colab.kernel.comms.open(id);\n",
       "      // Send a message to notify the kernel that we're ready.\n",
       "      channel.send({})\n",
       "\n",
       "      for await (const message of channel.messages) {\n",
       "        // Send a message to notify the kernel that we're ready.\n",
       "        channel.send({})\n",
       "        if (message.buffers) {\n",
       "          for (const buffer of message.buffers) {\n",
       "            buffers.push(buffer);\n",
       "            downloaded += buffer.byteLength;\n",
       "            progress.value = downloaded;\n",
       "          }\n",
       "        }\n",
       "      }\n",
       "      const blob = new Blob(buffers, {type: 'application/binary'});\n",
       "      const a = document.createElement('a');\n",
       "      a.href = window.URL.createObjectURL(blob);\n",
       "      a.download = filename;\n",
       "      div.appendChild(a);\n",
       "      a.click();\n",
       "      div.remove();\n",
       "    }\n",
       "  "
      ],
      "text/plain": [
       "<IPython.core.display.Javascript object>"
      ]
     },
     "metadata": {},
     "output_type": "display_data"
    },
    {
     "data": {
      "application/javascript": [
       "download(\"download_ce95ed07-3e95-4f94-afc4-b354587de63e\", \"model_best.pt\", 98810937)"
      ],
      "text/plain": [
       "<IPython.core.display.Javascript object>"
      ]
     },
     "metadata": {},
     "output_type": "display_data"
    },
    {
     "data": {
      "application/javascript": [
       "\n",
       "    async function download(id, filename, size) {\n",
       "      if (!google.colab.kernel.accessAllowed) {\n",
       "        return;\n",
       "      }\n",
       "      const div = document.createElement('div');\n",
       "      const label = document.createElement('label');\n",
       "      label.textContent = `Downloading \"${filename}\": `;\n",
       "      div.appendChild(label);\n",
       "      const progress = document.createElement('progress');\n",
       "      progress.max = size;\n",
       "      div.appendChild(progress);\n",
       "      document.body.appendChild(div);\n",
       "\n",
       "      const buffers = [];\n",
       "      let downloaded = 0;\n",
       "\n",
       "      const channel = await google.colab.kernel.comms.open(id);\n",
       "      // Send a message to notify the kernel that we're ready.\n",
       "      channel.send({})\n",
       "\n",
       "      for await (const message of channel.messages) {\n",
       "        // Send a message to notify the kernel that we're ready.\n",
       "        channel.send({})\n",
       "        if (message.buffers) {\n",
       "          for (const buffer of message.buffers) {\n",
       "            buffers.push(buffer);\n",
       "            downloaded += buffer.byteLength;\n",
       "            progress.value = downloaded;\n",
       "          }\n",
       "        }\n",
       "      }\n",
       "      const blob = new Blob(buffers, {type: 'application/binary'});\n",
       "      const a = document.createElement('a');\n",
       "      a.href = window.URL.createObjectURL(blob);\n",
       "      a.download = filename;\n",
       "      div.appendChild(a);\n",
       "      a.click();\n",
       "      div.remove();\n",
       "    }\n",
       "  "
      ],
      "text/plain": [
       "<IPython.core.display.Javascript object>"
      ]
     },
     "metadata": {},
     "output_type": "display_data"
    },
    {
     "data": {
      "application/javascript": [
       "download(\"download_9a83458b-2c14-476d-a652-ee47dfad2440\", \"results.csv\", 33464)"
      ],
      "text/plain": [
       "<IPython.core.display.Javascript object>"
      ]
     },
     "metadata": {},
     "output_type": "display_data"
    },
    {
     "data": {
      "application/javascript": [
       "\n",
       "    async function download(id, filename, size) {\n",
       "      if (!google.colab.kernel.accessAllowed) {\n",
       "        return;\n",
       "      }\n",
       "      const div = document.createElement('div');\n",
       "      const label = document.createElement('label');\n",
       "      label.textContent = `Downloading \"${filename}\": `;\n",
       "      div.appendChild(label);\n",
       "      const progress = document.createElement('progress');\n",
       "      progress.max = size;\n",
       "      div.appendChild(progress);\n",
       "      document.body.appendChild(div);\n",
       "\n",
       "      const buffers = [];\n",
       "      let downloaded = 0;\n",
       "\n",
       "      const channel = await google.colab.kernel.comms.open(id);\n",
       "      // Send a message to notify the kernel that we're ready.\n",
       "      channel.send({})\n",
       "\n",
       "      for await (const message of channel.messages) {\n",
       "        // Send a message to notify the kernel that we're ready.\n",
       "        channel.send({})\n",
       "        if (message.buffers) {\n",
       "          for (const buffer of message.buffers) {\n",
       "            buffers.push(buffer);\n",
       "            downloaded += buffer.byteLength;\n",
       "            progress.value = downloaded;\n",
       "          }\n",
       "        }\n",
       "      }\n",
       "      const blob = new Blob(buffers, {type: 'application/binary'});\n",
       "      const a = document.createElement('a');\n",
       "      a.href = window.URL.createObjectURL(blob);\n",
       "      a.download = filename;\n",
       "      div.appendChild(a);\n",
       "      a.click();\n",
       "      div.remove();\n",
       "    }\n",
       "  "
      ],
      "text/plain": [
       "<IPython.core.display.Javascript object>"
      ]
     },
     "metadata": {},
     "output_type": "display_data"
    },
    {
     "data": {
      "application/javascript": [
       "download(\"download_00d44e3f-b7f4-4f73-a68b-7462524152f0\", \"confusion_matrix.png\", 87197)"
      ],
      "text/plain": [
       "<IPython.core.display.Javascript object>"
      ]
     },
     "metadata": {},
     "output_type": "display_data"
    },
    {
     "data": {
      "application/javascript": [
       "\n",
       "    async function download(id, filename, size) {\n",
       "      if (!google.colab.kernel.accessAllowed) {\n",
       "        return;\n",
       "      }\n",
       "      const div = document.createElement('div');\n",
       "      const label = document.createElement('label');\n",
       "      label.textContent = `Downloading \"${filename}\": `;\n",
       "      div.appendChild(label);\n",
       "      const progress = document.createElement('progress');\n",
       "      progress.max = size;\n",
       "      div.appendChild(progress);\n",
       "      document.body.appendChild(div);\n",
       "\n",
       "      const buffers = [];\n",
       "      let downloaded = 0;\n",
       "\n",
       "      const channel = await google.colab.kernel.comms.open(id);\n",
       "      // Send a message to notify the kernel that we're ready.\n",
       "      channel.send({})\n",
       "\n",
       "      for await (const message of channel.messages) {\n",
       "        // Send a message to notify the kernel that we're ready.\n",
       "        channel.send({})\n",
       "        if (message.buffers) {\n",
       "          for (const buffer of message.buffers) {\n",
       "            buffers.push(buffer);\n",
       "            downloaded += buffer.byteLength;\n",
       "            progress.value = downloaded;\n",
       "          }\n",
       "        }\n",
       "      }\n",
       "      const blob = new Blob(buffers, {type: 'application/binary'});\n",
       "      const a = document.createElement('a');\n",
       "      a.href = window.URL.createObjectURL(blob);\n",
       "      a.download = filename;\n",
       "      div.appendChild(a);\n",
       "      a.click();\n",
       "      div.remove();\n",
       "    }\n",
       "  "
      ],
      "text/plain": [
       "<IPython.core.display.Javascript object>"
      ]
     },
     "metadata": {},
     "output_type": "display_data"
    },
    {
     "data": {
      "application/javascript": [
       "download(\"download_01f10c78-ebb8-4c72-8ce2-660f9399ec25\", \"roc.png\", 105033)"
      ],
      "text/plain": [
       "<IPython.core.display.Javascript object>"
      ]
     },
     "metadata": {},
     "output_type": "display_data"
    },
    {
     "data": {
      "application/javascript": [
       "\n",
       "    async function download(id, filename, size) {\n",
       "      if (!google.colab.kernel.accessAllowed) {\n",
       "        return;\n",
       "      }\n",
       "      const div = document.createElement('div');\n",
       "      const label = document.createElement('label');\n",
       "      label.textContent = `Downloading \"${filename}\": `;\n",
       "      div.appendChild(label);\n",
       "      const progress = document.createElement('progress');\n",
       "      progress.max = size;\n",
       "      div.appendChild(progress);\n",
       "      document.body.appendChild(div);\n",
       "\n",
       "      const buffers = [];\n",
       "      let downloaded = 0;\n",
       "\n",
       "      const channel = await google.colab.kernel.comms.open(id);\n",
       "      // Send a message to notify the kernel that we're ready.\n",
       "      channel.send({})\n",
       "\n",
       "      for await (const message of channel.messages) {\n",
       "        // Send a message to notify the kernel that we're ready.\n",
       "        channel.send({})\n",
       "        if (message.buffers) {\n",
       "          for (const buffer of message.buffers) {\n",
       "            buffers.push(buffer);\n",
       "            downloaded += buffer.byteLength;\n",
       "            progress.value = downloaded;\n",
       "          }\n",
       "        }\n",
       "      }\n",
       "      const blob = new Blob(buffers, {type: 'application/binary'});\n",
       "      const a = document.createElement('a');\n",
       "      a.href = window.URL.createObjectURL(blob);\n",
       "      a.download = filename;\n",
       "      div.appendChild(a);\n",
       "      a.click();\n",
       "      div.remove();\n",
       "    }\n",
       "  "
      ],
      "text/plain": [
       "<IPython.core.display.Javascript object>"
      ]
     },
     "metadata": {},
     "output_type": "display_data"
    },
    {
     "data": {
      "application/javascript": [
       "download(\"download_dd678278-453c-4bcb-a9a3-dd80e16a1043\", \"learning_curves_best.pkl\", 942)"
      ],
      "text/plain": [
       "<IPython.core.display.Javascript object>"
      ]
     },
     "metadata": {},
     "output_type": "display_data"
    }
   ],
   "source": [
    "from google.colab import files\n",
    "\n",
    "# Best model\n",
    "files.download('./models/model_best.pt')\n",
    "# Results\n",
    "files.download('results.csv')\n",
    "files.download('./images/confusion_matrix.png')\n",
    "files.download('./images/roc.png')\n",
    "files.download('./models/learning_curves_best.pkl')"
   ]
  },
  {
   "cell_type": "markdown",
   "id": "ec8a2127",
   "metadata": {
    "id": "ec8a2127"
   },
   "source": [
    "## 4. Conclusions and Notes"
   ]
  },
  {
   "cell_type": "markdown",
   "id": "ef05b766",
   "metadata": {
    "id": "ef05b766"
   },
   "source": [
    "#### V2: Fine-tunes ResNet50 network trained for 50 epochs\n",
    "\n",
    "- I trained this version on Google Colab Pro with a Tesla T4 for 4-5 hours (50 epochs)\n",
    "- The results are better with this version, but overall, the model still doesn't work:\n",
    "    - Melanoma and seborrheic keratosis are often predicted as other skin lesions.\n",
    "- Accuracy has decreased to 68%, but the recall is better now: 0.56 for the malign case.\n",
    "- Learning curves:\n",
    "    - Training loss decreases too slow\n",
    "    - Validation loss is noisy but it oscillates around the same average\n",
    "    - Interpretation\n",
    "        - Probably, we have a large variance error (overfitting)?\n",
    "        - The learning rate should be increased?\n",
    "- Next steps:\n",
    "    - Try with a learning rate scheduler\n",
    "    - Remove one fully connected layer in the classifier\n",
    "\n",
    "#### V1: Frozen ResNet50 network trained for 20 epochs\n",
    "\n",
    "- Overall, the model doesn't work:\n",
    "    - Most of the melanoma cases are predicted as other types of skin lesions.\n",
    "    - Seborrheic keratosis is often predicted as nevus.\n",
    "- The accuracy metric is really bad for such inbalanced classification problems; even though it is 70%, the recall for the malign vs. bening case is 0.07.\n",
    "- Similarly as Esteva et al. did, I should fine tune the backbone, i.e., the weights of the backbone should be optimized for the dataset, too."
   ]
  },
  {
   "cell_type": "code",
   "execution_count": null,
   "id": "b7bf16e4",
   "metadata": {
    "id": "b7bf16e4"
   },
   "outputs": [],
   "source": []
  },
  {
   "cell_type": "code",
   "execution_count": null,
   "id": "44470f1f",
   "metadata": {
    "id": "44470f1f"
   },
   "outputs": [],
   "source": []
  }
 ],
 "metadata": {
  "accelerator": "GPU",
  "colab": {
   "provenance": []
  },
  "gpuClass": "standard",
  "kernelspec": {
   "display_name": "Python 3",
   "language": "python",
   "name": "python3"
  },
  "language_info": {
   "codemirror_mode": {
    "name": "ipython",
    "version": 3
   },
   "file_extension": ".py",
   "mimetype": "text/x-python",
   "name": "python",
   "nbconvert_exporter": "python",
   "pygments_lexer": "ipython3",
   "version": "3.6.13"
  }
 },
 "nbformat": 4,
 "nbformat_minor": 5
}
